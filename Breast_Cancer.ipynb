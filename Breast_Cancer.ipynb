{
  "nbformat": 4,
  "nbformat_minor": 0,
  "metadata": {
    "colab": {
      "name": "Breast Cancer.ipynb",
      "provenance": [],
      "collapsed_sections": []
    },
    "kernelspec": {
      "display_name": "Python 3",
      "name": "python3"
    },
    "language_info": {
      "name": "python"
    }
  },
  "cells": [
    {
      "cell_type": "markdown",
      "metadata": {
        "id": "a2lAc7_cX48o"
      },
      "source": [
        "Importing Data\n"
      ]
    },
    {
      "cell_type": "code",
      "metadata": {
        "id": "pXARO7bnRS9R"
      },
      "source": [
        "import pandas as pd\n",
        "import numpy as np\n",
        "import matplotlib.pyplot as plt\n",
        "import seaborn as sns"
      ],
      "execution_count": 3,
      "outputs": []
    },
    {
      "cell_type": "code",
      "metadata": {
        "id": "WBszsKIZSpYn"
      },
      "source": [
        "from sklearn.datasets import load_breast_cancer\n",
        "cancer = load_breast_cancer()"
      ],
      "execution_count": 4,
      "outputs": []
    },
    {
      "cell_type": "code",
      "metadata": {
        "colab": {
          "base_uri": "https://localhost:8080/"
        },
        "id": "HW8o4r8zS3_u",
        "outputId": "3d5314d7-9555-4db8-c5d5-11bd8932bd95"
      },
      "source": [
        "type(cancer)"
      ],
      "execution_count": 5,
      "outputs": [
        {
          "output_type": "execute_result",
          "data": {
            "text/plain": [
              "sklearn.utils.Bunch"
            ]
          },
          "metadata": {
            "tags": []
          },
          "execution_count": 5
        }
      ]
    },
    {
      "cell_type": "code",
      "metadata": {
        "id": "_SeA26w7S75K"
      },
      "source": [
        "data = pd.DataFrame(cancer.data)"
      ],
      "execution_count": 6,
      "outputs": []
    },
    {
      "cell_type": "code",
      "metadata": {
        "colab": {
          "base_uri": "https://localhost:8080/"
        },
        "id": "P_cp7cjhTgmJ",
        "outputId": "56aba09f-bc98-4934-b705-7be6cafc781a"
      },
      "source": [
        "type(data)"
      ],
      "execution_count": 7,
      "outputs": [
        {
          "output_type": "execute_result",
          "data": {
            "text/plain": [
              "pandas.core.frame.DataFrame"
            ]
          },
          "metadata": {
            "tags": []
          },
          "execution_count": 7
        }
      ]
    },
    {
      "cell_type": "code",
      "metadata": {
        "colab": {
          "base_uri": "https://localhost:8080/",
          "height": 223
        },
        "id": "GpkSqUc0TiSi",
        "outputId": "ad9ba47d-4724-4271-8536-4dc8f3167c5e"
      },
      "source": [
        "data.head()"
      ],
      "execution_count": 8,
      "outputs": [
        {
          "output_type": "execute_result",
          "data": {
            "text/html": [
              "<div>\n",
              "<style scoped>\n",
              "    .dataframe tbody tr th:only-of-type {\n",
              "        vertical-align: middle;\n",
              "    }\n",
              "\n",
              "    .dataframe tbody tr th {\n",
              "        vertical-align: top;\n",
              "    }\n",
              "\n",
              "    .dataframe thead th {\n",
              "        text-align: right;\n",
              "    }\n",
              "</style>\n",
              "<table border=\"1\" class=\"dataframe\">\n",
              "  <thead>\n",
              "    <tr style=\"text-align: right;\">\n",
              "      <th></th>\n",
              "      <th>0</th>\n",
              "      <th>1</th>\n",
              "      <th>2</th>\n",
              "      <th>3</th>\n",
              "      <th>4</th>\n",
              "      <th>5</th>\n",
              "      <th>6</th>\n",
              "      <th>7</th>\n",
              "      <th>8</th>\n",
              "      <th>9</th>\n",
              "      <th>10</th>\n",
              "      <th>11</th>\n",
              "      <th>12</th>\n",
              "      <th>13</th>\n",
              "      <th>14</th>\n",
              "      <th>15</th>\n",
              "      <th>16</th>\n",
              "      <th>17</th>\n",
              "      <th>18</th>\n",
              "      <th>19</th>\n",
              "      <th>20</th>\n",
              "      <th>21</th>\n",
              "      <th>22</th>\n",
              "      <th>23</th>\n",
              "      <th>24</th>\n",
              "      <th>25</th>\n",
              "      <th>26</th>\n",
              "      <th>27</th>\n",
              "      <th>28</th>\n",
              "      <th>29</th>\n",
              "    </tr>\n",
              "  </thead>\n",
              "  <tbody>\n",
              "    <tr>\n",
              "      <th>0</th>\n",
              "      <td>17.99</td>\n",
              "      <td>10.38</td>\n",
              "      <td>122.80</td>\n",
              "      <td>1001.0</td>\n",
              "      <td>0.11840</td>\n",
              "      <td>0.27760</td>\n",
              "      <td>0.3001</td>\n",
              "      <td>0.14710</td>\n",
              "      <td>0.2419</td>\n",
              "      <td>0.07871</td>\n",
              "      <td>1.0950</td>\n",
              "      <td>0.9053</td>\n",
              "      <td>8.589</td>\n",
              "      <td>153.40</td>\n",
              "      <td>0.006399</td>\n",
              "      <td>0.04904</td>\n",
              "      <td>0.05373</td>\n",
              "      <td>0.01587</td>\n",
              "      <td>0.03003</td>\n",
              "      <td>0.006193</td>\n",
              "      <td>25.38</td>\n",
              "      <td>17.33</td>\n",
              "      <td>184.60</td>\n",
              "      <td>2019.0</td>\n",
              "      <td>0.1622</td>\n",
              "      <td>0.6656</td>\n",
              "      <td>0.7119</td>\n",
              "      <td>0.2654</td>\n",
              "      <td>0.4601</td>\n",
              "      <td>0.11890</td>\n",
              "    </tr>\n",
              "    <tr>\n",
              "      <th>1</th>\n",
              "      <td>20.57</td>\n",
              "      <td>17.77</td>\n",
              "      <td>132.90</td>\n",
              "      <td>1326.0</td>\n",
              "      <td>0.08474</td>\n",
              "      <td>0.07864</td>\n",
              "      <td>0.0869</td>\n",
              "      <td>0.07017</td>\n",
              "      <td>0.1812</td>\n",
              "      <td>0.05667</td>\n",
              "      <td>0.5435</td>\n",
              "      <td>0.7339</td>\n",
              "      <td>3.398</td>\n",
              "      <td>74.08</td>\n",
              "      <td>0.005225</td>\n",
              "      <td>0.01308</td>\n",
              "      <td>0.01860</td>\n",
              "      <td>0.01340</td>\n",
              "      <td>0.01389</td>\n",
              "      <td>0.003532</td>\n",
              "      <td>24.99</td>\n",
              "      <td>23.41</td>\n",
              "      <td>158.80</td>\n",
              "      <td>1956.0</td>\n",
              "      <td>0.1238</td>\n",
              "      <td>0.1866</td>\n",
              "      <td>0.2416</td>\n",
              "      <td>0.1860</td>\n",
              "      <td>0.2750</td>\n",
              "      <td>0.08902</td>\n",
              "    </tr>\n",
              "    <tr>\n",
              "      <th>2</th>\n",
              "      <td>19.69</td>\n",
              "      <td>21.25</td>\n",
              "      <td>130.00</td>\n",
              "      <td>1203.0</td>\n",
              "      <td>0.10960</td>\n",
              "      <td>0.15990</td>\n",
              "      <td>0.1974</td>\n",
              "      <td>0.12790</td>\n",
              "      <td>0.2069</td>\n",
              "      <td>0.05999</td>\n",
              "      <td>0.7456</td>\n",
              "      <td>0.7869</td>\n",
              "      <td>4.585</td>\n",
              "      <td>94.03</td>\n",
              "      <td>0.006150</td>\n",
              "      <td>0.04006</td>\n",
              "      <td>0.03832</td>\n",
              "      <td>0.02058</td>\n",
              "      <td>0.02250</td>\n",
              "      <td>0.004571</td>\n",
              "      <td>23.57</td>\n",
              "      <td>25.53</td>\n",
              "      <td>152.50</td>\n",
              "      <td>1709.0</td>\n",
              "      <td>0.1444</td>\n",
              "      <td>0.4245</td>\n",
              "      <td>0.4504</td>\n",
              "      <td>0.2430</td>\n",
              "      <td>0.3613</td>\n",
              "      <td>0.08758</td>\n",
              "    </tr>\n",
              "    <tr>\n",
              "      <th>3</th>\n",
              "      <td>11.42</td>\n",
              "      <td>20.38</td>\n",
              "      <td>77.58</td>\n",
              "      <td>386.1</td>\n",
              "      <td>0.14250</td>\n",
              "      <td>0.28390</td>\n",
              "      <td>0.2414</td>\n",
              "      <td>0.10520</td>\n",
              "      <td>0.2597</td>\n",
              "      <td>0.09744</td>\n",
              "      <td>0.4956</td>\n",
              "      <td>1.1560</td>\n",
              "      <td>3.445</td>\n",
              "      <td>27.23</td>\n",
              "      <td>0.009110</td>\n",
              "      <td>0.07458</td>\n",
              "      <td>0.05661</td>\n",
              "      <td>0.01867</td>\n",
              "      <td>0.05963</td>\n",
              "      <td>0.009208</td>\n",
              "      <td>14.91</td>\n",
              "      <td>26.50</td>\n",
              "      <td>98.87</td>\n",
              "      <td>567.7</td>\n",
              "      <td>0.2098</td>\n",
              "      <td>0.8663</td>\n",
              "      <td>0.6869</td>\n",
              "      <td>0.2575</td>\n",
              "      <td>0.6638</td>\n",
              "      <td>0.17300</td>\n",
              "    </tr>\n",
              "    <tr>\n",
              "      <th>4</th>\n",
              "      <td>20.29</td>\n",
              "      <td>14.34</td>\n",
              "      <td>135.10</td>\n",
              "      <td>1297.0</td>\n",
              "      <td>0.10030</td>\n",
              "      <td>0.13280</td>\n",
              "      <td>0.1980</td>\n",
              "      <td>0.10430</td>\n",
              "      <td>0.1809</td>\n",
              "      <td>0.05883</td>\n",
              "      <td>0.7572</td>\n",
              "      <td>0.7813</td>\n",
              "      <td>5.438</td>\n",
              "      <td>94.44</td>\n",
              "      <td>0.011490</td>\n",
              "      <td>0.02461</td>\n",
              "      <td>0.05688</td>\n",
              "      <td>0.01885</td>\n",
              "      <td>0.01756</td>\n",
              "      <td>0.005115</td>\n",
              "      <td>22.54</td>\n",
              "      <td>16.67</td>\n",
              "      <td>152.20</td>\n",
              "      <td>1575.0</td>\n",
              "      <td>0.1374</td>\n",
              "      <td>0.2050</td>\n",
              "      <td>0.4000</td>\n",
              "      <td>0.1625</td>\n",
              "      <td>0.2364</td>\n",
              "      <td>0.07678</td>\n",
              "    </tr>\n",
              "  </tbody>\n",
              "</table>\n",
              "</div>"
            ],
            "text/plain": [
              "      0      1       2       3   ...      26      27      28       29\n",
              "0  17.99  10.38  122.80  1001.0  ...  0.7119  0.2654  0.4601  0.11890\n",
              "1  20.57  17.77  132.90  1326.0  ...  0.2416  0.1860  0.2750  0.08902\n",
              "2  19.69  21.25  130.00  1203.0  ...  0.4504  0.2430  0.3613  0.08758\n",
              "3  11.42  20.38   77.58   386.1  ...  0.6869  0.2575  0.6638  0.17300\n",
              "4  20.29  14.34  135.10  1297.0  ...  0.4000  0.1625  0.2364  0.07678\n",
              "\n",
              "[5 rows x 30 columns]"
            ]
          },
          "metadata": {
            "tags": []
          },
          "execution_count": 8
        }
      ]
    },
    {
      "cell_type": "code",
      "metadata": {
        "id": "IW4YRG0lTkV_"
      },
      "source": [
        "data.columns = cancer.feature_names"
      ],
      "execution_count": 9,
      "outputs": []
    },
    {
      "cell_type": "code",
      "metadata": {
        "colab": {
          "base_uri": "https://localhost:8080/",
          "height": 257
        },
        "id": "wh23vlldTv44",
        "outputId": "cd0b0824-a7d3-4cd7-d903-ad15fe0ae68b"
      },
      "source": [
        "data.head()"
      ],
      "execution_count": 10,
      "outputs": [
        {
          "output_type": "execute_result",
          "data": {
            "text/html": [
              "<div>\n",
              "<style scoped>\n",
              "    .dataframe tbody tr th:only-of-type {\n",
              "        vertical-align: middle;\n",
              "    }\n",
              "\n",
              "    .dataframe tbody tr th {\n",
              "        vertical-align: top;\n",
              "    }\n",
              "\n",
              "    .dataframe thead th {\n",
              "        text-align: right;\n",
              "    }\n",
              "</style>\n",
              "<table border=\"1\" class=\"dataframe\">\n",
              "  <thead>\n",
              "    <tr style=\"text-align: right;\">\n",
              "      <th></th>\n",
              "      <th>mean radius</th>\n",
              "      <th>mean texture</th>\n",
              "      <th>mean perimeter</th>\n",
              "      <th>mean area</th>\n",
              "      <th>mean smoothness</th>\n",
              "      <th>mean compactness</th>\n",
              "      <th>mean concavity</th>\n",
              "      <th>mean concave points</th>\n",
              "      <th>mean symmetry</th>\n",
              "      <th>mean fractal dimension</th>\n",
              "      <th>radius error</th>\n",
              "      <th>texture error</th>\n",
              "      <th>perimeter error</th>\n",
              "      <th>area error</th>\n",
              "      <th>smoothness error</th>\n",
              "      <th>compactness error</th>\n",
              "      <th>concavity error</th>\n",
              "      <th>concave points error</th>\n",
              "      <th>symmetry error</th>\n",
              "      <th>fractal dimension error</th>\n",
              "      <th>worst radius</th>\n",
              "      <th>worst texture</th>\n",
              "      <th>worst perimeter</th>\n",
              "      <th>worst area</th>\n",
              "      <th>worst smoothness</th>\n",
              "      <th>worst compactness</th>\n",
              "      <th>worst concavity</th>\n",
              "      <th>worst concave points</th>\n",
              "      <th>worst symmetry</th>\n",
              "      <th>worst fractal dimension</th>\n",
              "    </tr>\n",
              "  </thead>\n",
              "  <tbody>\n",
              "    <tr>\n",
              "      <th>0</th>\n",
              "      <td>17.99</td>\n",
              "      <td>10.38</td>\n",
              "      <td>122.80</td>\n",
              "      <td>1001.0</td>\n",
              "      <td>0.11840</td>\n",
              "      <td>0.27760</td>\n",
              "      <td>0.3001</td>\n",
              "      <td>0.14710</td>\n",
              "      <td>0.2419</td>\n",
              "      <td>0.07871</td>\n",
              "      <td>1.0950</td>\n",
              "      <td>0.9053</td>\n",
              "      <td>8.589</td>\n",
              "      <td>153.40</td>\n",
              "      <td>0.006399</td>\n",
              "      <td>0.04904</td>\n",
              "      <td>0.05373</td>\n",
              "      <td>0.01587</td>\n",
              "      <td>0.03003</td>\n",
              "      <td>0.006193</td>\n",
              "      <td>25.38</td>\n",
              "      <td>17.33</td>\n",
              "      <td>184.60</td>\n",
              "      <td>2019.0</td>\n",
              "      <td>0.1622</td>\n",
              "      <td>0.6656</td>\n",
              "      <td>0.7119</td>\n",
              "      <td>0.2654</td>\n",
              "      <td>0.4601</td>\n",
              "      <td>0.11890</td>\n",
              "    </tr>\n",
              "    <tr>\n",
              "      <th>1</th>\n",
              "      <td>20.57</td>\n",
              "      <td>17.77</td>\n",
              "      <td>132.90</td>\n",
              "      <td>1326.0</td>\n",
              "      <td>0.08474</td>\n",
              "      <td>0.07864</td>\n",
              "      <td>0.0869</td>\n",
              "      <td>0.07017</td>\n",
              "      <td>0.1812</td>\n",
              "      <td>0.05667</td>\n",
              "      <td>0.5435</td>\n",
              "      <td>0.7339</td>\n",
              "      <td>3.398</td>\n",
              "      <td>74.08</td>\n",
              "      <td>0.005225</td>\n",
              "      <td>0.01308</td>\n",
              "      <td>0.01860</td>\n",
              "      <td>0.01340</td>\n",
              "      <td>0.01389</td>\n",
              "      <td>0.003532</td>\n",
              "      <td>24.99</td>\n",
              "      <td>23.41</td>\n",
              "      <td>158.80</td>\n",
              "      <td>1956.0</td>\n",
              "      <td>0.1238</td>\n",
              "      <td>0.1866</td>\n",
              "      <td>0.2416</td>\n",
              "      <td>0.1860</td>\n",
              "      <td>0.2750</td>\n",
              "      <td>0.08902</td>\n",
              "    </tr>\n",
              "    <tr>\n",
              "      <th>2</th>\n",
              "      <td>19.69</td>\n",
              "      <td>21.25</td>\n",
              "      <td>130.00</td>\n",
              "      <td>1203.0</td>\n",
              "      <td>0.10960</td>\n",
              "      <td>0.15990</td>\n",
              "      <td>0.1974</td>\n",
              "      <td>0.12790</td>\n",
              "      <td>0.2069</td>\n",
              "      <td>0.05999</td>\n",
              "      <td>0.7456</td>\n",
              "      <td>0.7869</td>\n",
              "      <td>4.585</td>\n",
              "      <td>94.03</td>\n",
              "      <td>0.006150</td>\n",
              "      <td>0.04006</td>\n",
              "      <td>0.03832</td>\n",
              "      <td>0.02058</td>\n",
              "      <td>0.02250</td>\n",
              "      <td>0.004571</td>\n",
              "      <td>23.57</td>\n",
              "      <td>25.53</td>\n",
              "      <td>152.50</td>\n",
              "      <td>1709.0</td>\n",
              "      <td>0.1444</td>\n",
              "      <td>0.4245</td>\n",
              "      <td>0.4504</td>\n",
              "      <td>0.2430</td>\n",
              "      <td>0.3613</td>\n",
              "      <td>0.08758</td>\n",
              "    </tr>\n",
              "    <tr>\n",
              "      <th>3</th>\n",
              "      <td>11.42</td>\n",
              "      <td>20.38</td>\n",
              "      <td>77.58</td>\n",
              "      <td>386.1</td>\n",
              "      <td>0.14250</td>\n",
              "      <td>0.28390</td>\n",
              "      <td>0.2414</td>\n",
              "      <td>0.10520</td>\n",
              "      <td>0.2597</td>\n",
              "      <td>0.09744</td>\n",
              "      <td>0.4956</td>\n",
              "      <td>1.1560</td>\n",
              "      <td>3.445</td>\n",
              "      <td>27.23</td>\n",
              "      <td>0.009110</td>\n",
              "      <td>0.07458</td>\n",
              "      <td>0.05661</td>\n",
              "      <td>0.01867</td>\n",
              "      <td>0.05963</td>\n",
              "      <td>0.009208</td>\n",
              "      <td>14.91</td>\n",
              "      <td>26.50</td>\n",
              "      <td>98.87</td>\n",
              "      <td>567.7</td>\n",
              "      <td>0.2098</td>\n",
              "      <td>0.8663</td>\n",
              "      <td>0.6869</td>\n",
              "      <td>0.2575</td>\n",
              "      <td>0.6638</td>\n",
              "      <td>0.17300</td>\n",
              "    </tr>\n",
              "    <tr>\n",
              "      <th>4</th>\n",
              "      <td>20.29</td>\n",
              "      <td>14.34</td>\n",
              "      <td>135.10</td>\n",
              "      <td>1297.0</td>\n",
              "      <td>0.10030</td>\n",
              "      <td>0.13280</td>\n",
              "      <td>0.1980</td>\n",
              "      <td>0.10430</td>\n",
              "      <td>0.1809</td>\n",
              "      <td>0.05883</td>\n",
              "      <td>0.7572</td>\n",
              "      <td>0.7813</td>\n",
              "      <td>5.438</td>\n",
              "      <td>94.44</td>\n",
              "      <td>0.011490</td>\n",
              "      <td>0.02461</td>\n",
              "      <td>0.05688</td>\n",
              "      <td>0.01885</td>\n",
              "      <td>0.01756</td>\n",
              "      <td>0.005115</td>\n",
              "      <td>22.54</td>\n",
              "      <td>16.67</td>\n",
              "      <td>152.20</td>\n",
              "      <td>1575.0</td>\n",
              "      <td>0.1374</td>\n",
              "      <td>0.2050</td>\n",
              "      <td>0.4000</td>\n",
              "      <td>0.1625</td>\n",
              "      <td>0.2364</td>\n",
              "      <td>0.07678</td>\n",
              "    </tr>\n",
              "  </tbody>\n",
              "</table>\n",
              "</div>"
            ],
            "text/plain": [
              "   mean radius  mean texture  ...  worst symmetry  worst fractal dimension\n",
              "0        17.99         10.38  ...          0.4601                  0.11890\n",
              "1        20.57         17.77  ...          0.2750                  0.08902\n",
              "2        19.69         21.25  ...          0.3613                  0.08758\n",
              "3        11.42         20.38  ...          0.6638                  0.17300\n",
              "4        20.29         14.34  ...          0.2364                  0.07678\n",
              "\n",
              "[5 rows x 30 columns]"
            ]
          },
          "metadata": {
            "tags": []
          },
          "execution_count": 10
        }
      ]
    },
    {
      "cell_type": "code",
      "metadata": {
        "colab": {
          "base_uri": "https://localhost:8080/"
        },
        "id": "BXsO_BmGTxhW",
        "outputId": "d650abe6-1eca-4b4a-9fb3-fc104447a78b"
      },
      "source": [
        "data.columns"
      ],
      "execution_count": 11,
      "outputs": [
        {
          "output_type": "execute_result",
          "data": {
            "text/plain": [
              "Index(['mean radius', 'mean texture', 'mean perimeter', 'mean area',\n",
              "       'mean smoothness', 'mean compactness', 'mean concavity',\n",
              "       'mean concave points', 'mean symmetry', 'mean fractal dimension',\n",
              "       'radius error', 'texture error', 'perimeter error', 'area error',\n",
              "       'smoothness error', 'compactness error', 'concavity error',\n",
              "       'concave points error', 'symmetry error', 'fractal dimension error',\n",
              "       'worst radius', 'worst texture', 'worst perimeter', 'worst area',\n",
              "       'worst smoothness', 'worst compactness', 'worst concavity',\n",
              "       'worst concave points', 'worst symmetry', 'worst fractal dimension'],\n",
              "      dtype='object')"
            ]
          },
          "metadata": {
            "tags": []
          },
          "execution_count": 11
        }
      ]
    },
    {
      "cell_type": "code",
      "metadata": {
        "colab": {
          "base_uri": "https://localhost:8080/"
        },
        "id": "J3XbNBopT9oe",
        "outputId": "33fe9057-56fd-491b-bf1c-c649d3885ded"
      },
      "source": [
        "data.shape"
      ],
      "execution_count": 12,
      "outputs": [
        {
          "output_type": "execute_result",
          "data": {
            "text/plain": [
              "(569, 30)"
            ]
          },
          "metadata": {
            "tags": []
          },
          "execution_count": 12
        }
      ]
    },
    {
      "cell_type": "code",
      "metadata": {
        "colab": {
          "base_uri": "https://localhost:8080/"
        },
        "id": "chFn1gtHUARN",
        "outputId": "f7521617-dc38-43ef-8e89-922c0f6c16af"
      },
      "source": [
        "data.info()"
      ],
      "execution_count": 13,
      "outputs": [
        {
          "output_type": "stream",
          "text": [
            "<class 'pandas.core.frame.DataFrame'>\n",
            "RangeIndex: 569 entries, 0 to 568\n",
            "Data columns (total 30 columns):\n",
            " #   Column                   Non-Null Count  Dtype  \n",
            "---  ------                   --------------  -----  \n",
            " 0   mean radius              569 non-null    float64\n",
            " 1   mean texture             569 non-null    float64\n",
            " 2   mean perimeter           569 non-null    float64\n",
            " 3   mean area                569 non-null    float64\n",
            " 4   mean smoothness          569 non-null    float64\n",
            " 5   mean compactness         569 non-null    float64\n",
            " 6   mean concavity           569 non-null    float64\n",
            " 7   mean concave points      569 non-null    float64\n",
            " 8   mean symmetry            569 non-null    float64\n",
            " 9   mean fractal dimension   569 non-null    float64\n",
            " 10  radius error             569 non-null    float64\n",
            " 11  texture error            569 non-null    float64\n",
            " 12  perimeter error          569 non-null    float64\n",
            " 13  area error               569 non-null    float64\n",
            " 14  smoothness error         569 non-null    float64\n",
            " 15  compactness error        569 non-null    float64\n",
            " 16  concavity error          569 non-null    float64\n",
            " 17  concave points error     569 non-null    float64\n",
            " 18  symmetry error           569 non-null    float64\n",
            " 19  fractal dimension error  569 non-null    float64\n",
            " 20  worst radius             569 non-null    float64\n",
            " 21  worst texture            569 non-null    float64\n",
            " 22  worst perimeter          569 non-null    float64\n",
            " 23  worst area               569 non-null    float64\n",
            " 24  worst smoothness         569 non-null    float64\n",
            " 25  worst compactness        569 non-null    float64\n",
            " 26  worst concavity          569 non-null    float64\n",
            " 27  worst concave points     569 non-null    float64\n",
            " 28  worst symmetry           569 non-null    float64\n",
            " 29  worst fractal dimension  569 non-null    float64\n",
            "dtypes: float64(30)\n",
            "memory usage: 133.5 KB\n"
          ],
          "name": "stdout"
        }
      ]
    },
    {
      "cell_type": "code",
      "metadata": {
        "colab": {
          "base_uri": "https://localhost:8080/",
          "height": 349
        },
        "id": "cFPy_O4FUDzJ",
        "outputId": "88718cd7-4a5e-48dc-e974-52eb7d853238"
      },
      "source": [
        "data.describe()"
      ],
      "execution_count": 14,
      "outputs": [
        {
          "output_type": "execute_result",
          "data": {
            "text/html": [
              "<div>\n",
              "<style scoped>\n",
              "    .dataframe tbody tr th:only-of-type {\n",
              "        vertical-align: middle;\n",
              "    }\n",
              "\n",
              "    .dataframe tbody tr th {\n",
              "        vertical-align: top;\n",
              "    }\n",
              "\n",
              "    .dataframe thead th {\n",
              "        text-align: right;\n",
              "    }\n",
              "</style>\n",
              "<table border=\"1\" class=\"dataframe\">\n",
              "  <thead>\n",
              "    <tr style=\"text-align: right;\">\n",
              "      <th></th>\n",
              "      <th>mean radius</th>\n",
              "      <th>mean texture</th>\n",
              "      <th>mean perimeter</th>\n",
              "      <th>mean area</th>\n",
              "      <th>mean smoothness</th>\n",
              "      <th>mean compactness</th>\n",
              "      <th>mean concavity</th>\n",
              "      <th>mean concave points</th>\n",
              "      <th>mean symmetry</th>\n",
              "      <th>mean fractal dimension</th>\n",
              "      <th>radius error</th>\n",
              "      <th>texture error</th>\n",
              "      <th>perimeter error</th>\n",
              "      <th>area error</th>\n",
              "      <th>smoothness error</th>\n",
              "      <th>compactness error</th>\n",
              "      <th>concavity error</th>\n",
              "      <th>concave points error</th>\n",
              "      <th>symmetry error</th>\n",
              "      <th>fractal dimension error</th>\n",
              "      <th>worst radius</th>\n",
              "      <th>worst texture</th>\n",
              "      <th>worst perimeter</th>\n",
              "      <th>worst area</th>\n",
              "      <th>worst smoothness</th>\n",
              "      <th>worst compactness</th>\n",
              "      <th>worst concavity</th>\n",
              "      <th>worst concave points</th>\n",
              "      <th>worst symmetry</th>\n",
              "      <th>worst fractal dimension</th>\n",
              "    </tr>\n",
              "  </thead>\n",
              "  <tbody>\n",
              "    <tr>\n",
              "      <th>count</th>\n",
              "      <td>569.000000</td>\n",
              "      <td>569.000000</td>\n",
              "      <td>569.000000</td>\n",
              "      <td>569.000000</td>\n",
              "      <td>569.000000</td>\n",
              "      <td>569.000000</td>\n",
              "      <td>569.000000</td>\n",
              "      <td>569.000000</td>\n",
              "      <td>569.000000</td>\n",
              "      <td>569.000000</td>\n",
              "      <td>569.000000</td>\n",
              "      <td>569.000000</td>\n",
              "      <td>569.000000</td>\n",
              "      <td>569.000000</td>\n",
              "      <td>569.000000</td>\n",
              "      <td>569.000000</td>\n",
              "      <td>569.000000</td>\n",
              "      <td>569.000000</td>\n",
              "      <td>569.000000</td>\n",
              "      <td>569.000000</td>\n",
              "      <td>569.000000</td>\n",
              "      <td>569.000000</td>\n",
              "      <td>569.000000</td>\n",
              "      <td>569.000000</td>\n",
              "      <td>569.000000</td>\n",
              "      <td>569.000000</td>\n",
              "      <td>569.000000</td>\n",
              "      <td>569.000000</td>\n",
              "      <td>569.000000</td>\n",
              "      <td>569.000000</td>\n",
              "    </tr>\n",
              "    <tr>\n",
              "      <th>mean</th>\n",
              "      <td>14.127292</td>\n",
              "      <td>19.289649</td>\n",
              "      <td>91.969033</td>\n",
              "      <td>654.889104</td>\n",
              "      <td>0.096360</td>\n",
              "      <td>0.104341</td>\n",
              "      <td>0.088799</td>\n",
              "      <td>0.048919</td>\n",
              "      <td>0.181162</td>\n",
              "      <td>0.062798</td>\n",
              "      <td>0.405172</td>\n",
              "      <td>1.216853</td>\n",
              "      <td>2.866059</td>\n",
              "      <td>40.337079</td>\n",
              "      <td>0.007041</td>\n",
              "      <td>0.025478</td>\n",
              "      <td>0.031894</td>\n",
              "      <td>0.011796</td>\n",
              "      <td>0.020542</td>\n",
              "      <td>0.003795</td>\n",
              "      <td>16.269190</td>\n",
              "      <td>25.677223</td>\n",
              "      <td>107.261213</td>\n",
              "      <td>880.583128</td>\n",
              "      <td>0.132369</td>\n",
              "      <td>0.254265</td>\n",
              "      <td>0.272188</td>\n",
              "      <td>0.114606</td>\n",
              "      <td>0.290076</td>\n",
              "      <td>0.083946</td>\n",
              "    </tr>\n",
              "    <tr>\n",
              "      <th>std</th>\n",
              "      <td>3.524049</td>\n",
              "      <td>4.301036</td>\n",
              "      <td>24.298981</td>\n",
              "      <td>351.914129</td>\n",
              "      <td>0.014064</td>\n",
              "      <td>0.052813</td>\n",
              "      <td>0.079720</td>\n",
              "      <td>0.038803</td>\n",
              "      <td>0.027414</td>\n",
              "      <td>0.007060</td>\n",
              "      <td>0.277313</td>\n",
              "      <td>0.551648</td>\n",
              "      <td>2.021855</td>\n",
              "      <td>45.491006</td>\n",
              "      <td>0.003003</td>\n",
              "      <td>0.017908</td>\n",
              "      <td>0.030186</td>\n",
              "      <td>0.006170</td>\n",
              "      <td>0.008266</td>\n",
              "      <td>0.002646</td>\n",
              "      <td>4.833242</td>\n",
              "      <td>6.146258</td>\n",
              "      <td>33.602542</td>\n",
              "      <td>569.356993</td>\n",
              "      <td>0.022832</td>\n",
              "      <td>0.157336</td>\n",
              "      <td>0.208624</td>\n",
              "      <td>0.065732</td>\n",
              "      <td>0.061867</td>\n",
              "      <td>0.018061</td>\n",
              "    </tr>\n",
              "    <tr>\n",
              "      <th>min</th>\n",
              "      <td>6.981000</td>\n",
              "      <td>9.710000</td>\n",
              "      <td>43.790000</td>\n",
              "      <td>143.500000</td>\n",
              "      <td>0.052630</td>\n",
              "      <td>0.019380</td>\n",
              "      <td>0.000000</td>\n",
              "      <td>0.000000</td>\n",
              "      <td>0.106000</td>\n",
              "      <td>0.049960</td>\n",
              "      <td>0.111500</td>\n",
              "      <td>0.360200</td>\n",
              "      <td>0.757000</td>\n",
              "      <td>6.802000</td>\n",
              "      <td>0.001713</td>\n",
              "      <td>0.002252</td>\n",
              "      <td>0.000000</td>\n",
              "      <td>0.000000</td>\n",
              "      <td>0.007882</td>\n",
              "      <td>0.000895</td>\n",
              "      <td>7.930000</td>\n",
              "      <td>12.020000</td>\n",
              "      <td>50.410000</td>\n",
              "      <td>185.200000</td>\n",
              "      <td>0.071170</td>\n",
              "      <td>0.027290</td>\n",
              "      <td>0.000000</td>\n",
              "      <td>0.000000</td>\n",
              "      <td>0.156500</td>\n",
              "      <td>0.055040</td>\n",
              "    </tr>\n",
              "    <tr>\n",
              "      <th>25%</th>\n",
              "      <td>11.700000</td>\n",
              "      <td>16.170000</td>\n",
              "      <td>75.170000</td>\n",
              "      <td>420.300000</td>\n",
              "      <td>0.086370</td>\n",
              "      <td>0.064920</td>\n",
              "      <td>0.029560</td>\n",
              "      <td>0.020310</td>\n",
              "      <td>0.161900</td>\n",
              "      <td>0.057700</td>\n",
              "      <td>0.232400</td>\n",
              "      <td>0.833900</td>\n",
              "      <td>1.606000</td>\n",
              "      <td>17.850000</td>\n",
              "      <td>0.005169</td>\n",
              "      <td>0.013080</td>\n",
              "      <td>0.015090</td>\n",
              "      <td>0.007638</td>\n",
              "      <td>0.015160</td>\n",
              "      <td>0.002248</td>\n",
              "      <td>13.010000</td>\n",
              "      <td>21.080000</td>\n",
              "      <td>84.110000</td>\n",
              "      <td>515.300000</td>\n",
              "      <td>0.116600</td>\n",
              "      <td>0.147200</td>\n",
              "      <td>0.114500</td>\n",
              "      <td>0.064930</td>\n",
              "      <td>0.250400</td>\n",
              "      <td>0.071460</td>\n",
              "    </tr>\n",
              "    <tr>\n",
              "      <th>50%</th>\n",
              "      <td>13.370000</td>\n",
              "      <td>18.840000</td>\n",
              "      <td>86.240000</td>\n",
              "      <td>551.100000</td>\n",
              "      <td>0.095870</td>\n",
              "      <td>0.092630</td>\n",
              "      <td>0.061540</td>\n",
              "      <td>0.033500</td>\n",
              "      <td>0.179200</td>\n",
              "      <td>0.061540</td>\n",
              "      <td>0.324200</td>\n",
              "      <td>1.108000</td>\n",
              "      <td>2.287000</td>\n",
              "      <td>24.530000</td>\n",
              "      <td>0.006380</td>\n",
              "      <td>0.020450</td>\n",
              "      <td>0.025890</td>\n",
              "      <td>0.010930</td>\n",
              "      <td>0.018730</td>\n",
              "      <td>0.003187</td>\n",
              "      <td>14.970000</td>\n",
              "      <td>25.410000</td>\n",
              "      <td>97.660000</td>\n",
              "      <td>686.500000</td>\n",
              "      <td>0.131300</td>\n",
              "      <td>0.211900</td>\n",
              "      <td>0.226700</td>\n",
              "      <td>0.099930</td>\n",
              "      <td>0.282200</td>\n",
              "      <td>0.080040</td>\n",
              "    </tr>\n",
              "    <tr>\n",
              "      <th>75%</th>\n",
              "      <td>15.780000</td>\n",
              "      <td>21.800000</td>\n",
              "      <td>104.100000</td>\n",
              "      <td>782.700000</td>\n",
              "      <td>0.105300</td>\n",
              "      <td>0.130400</td>\n",
              "      <td>0.130700</td>\n",
              "      <td>0.074000</td>\n",
              "      <td>0.195700</td>\n",
              "      <td>0.066120</td>\n",
              "      <td>0.478900</td>\n",
              "      <td>1.474000</td>\n",
              "      <td>3.357000</td>\n",
              "      <td>45.190000</td>\n",
              "      <td>0.008146</td>\n",
              "      <td>0.032450</td>\n",
              "      <td>0.042050</td>\n",
              "      <td>0.014710</td>\n",
              "      <td>0.023480</td>\n",
              "      <td>0.004558</td>\n",
              "      <td>18.790000</td>\n",
              "      <td>29.720000</td>\n",
              "      <td>125.400000</td>\n",
              "      <td>1084.000000</td>\n",
              "      <td>0.146000</td>\n",
              "      <td>0.339100</td>\n",
              "      <td>0.382900</td>\n",
              "      <td>0.161400</td>\n",
              "      <td>0.317900</td>\n",
              "      <td>0.092080</td>\n",
              "    </tr>\n",
              "    <tr>\n",
              "      <th>max</th>\n",
              "      <td>28.110000</td>\n",
              "      <td>39.280000</td>\n",
              "      <td>188.500000</td>\n",
              "      <td>2501.000000</td>\n",
              "      <td>0.163400</td>\n",
              "      <td>0.345400</td>\n",
              "      <td>0.426800</td>\n",
              "      <td>0.201200</td>\n",
              "      <td>0.304000</td>\n",
              "      <td>0.097440</td>\n",
              "      <td>2.873000</td>\n",
              "      <td>4.885000</td>\n",
              "      <td>21.980000</td>\n",
              "      <td>542.200000</td>\n",
              "      <td>0.031130</td>\n",
              "      <td>0.135400</td>\n",
              "      <td>0.396000</td>\n",
              "      <td>0.052790</td>\n",
              "      <td>0.078950</td>\n",
              "      <td>0.029840</td>\n",
              "      <td>36.040000</td>\n",
              "      <td>49.540000</td>\n",
              "      <td>251.200000</td>\n",
              "      <td>4254.000000</td>\n",
              "      <td>0.222600</td>\n",
              "      <td>1.058000</td>\n",
              "      <td>1.252000</td>\n",
              "      <td>0.291000</td>\n",
              "      <td>0.663800</td>\n",
              "      <td>0.207500</td>\n",
              "    </tr>\n",
              "  </tbody>\n",
              "</table>\n",
              "</div>"
            ],
            "text/plain": [
              "       mean radius  mean texture  ...  worst symmetry  worst fractal dimension\n",
              "count   569.000000    569.000000  ...      569.000000               569.000000\n",
              "mean     14.127292     19.289649  ...        0.290076                 0.083946\n",
              "std       3.524049      4.301036  ...        0.061867                 0.018061\n",
              "min       6.981000      9.710000  ...        0.156500                 0.055040\n",
              "25%      11.700000     16.170000  ...        0.250400                 0.071460\n",
              "50%      13.370000     18.840000  ...        0.282200                 0.080040\n",
              "75%      15.780000     21.800000  ...        0.317900                 0.092080\n",
              "max      28.110000     39.280000  ...        0.663800                 0.207500\n",
              "\n",
              "[8 rows x 30 columns]"
            ]
          },
          "metadata": {
            "tags": []
          },
          "execution_count": 14
        }
      ]
    },
    {
      "cell_type": "code",
      "metadata": {
        "colab": {
          "base_uri": "https://localhost:8080/",
          "height": 1000
        },
        "id": "Sc1H5GvNUH_b",
        "outputId": "3e3b59bc-e587-4a02-820b-d65d34cfbc12"
      },
      "source": [
        "data.corr()"
      ],
      "execution_count": 15,
      "outputs": [
        {
          "output_type": "execute_result",
          "data": {
            "text/html": [
              "<div>\n",
              "<style scoped>\n",
              "    .dataframe tbody tr th:only-of-type {\n",
              "        vertical-align: middle;\n",
              "    }\n",
              "\n",
              "    .dataframe tbody tr th {\n",
              "        vertical-align: top;\n",
              "    }\n",
              "\n",
              "    .dataframe thead th {\n",
              "        text-align: right;\n",
              "    }\n",
              "</style>\n",
              "<table border=\"1\" class=\"dataframe\">\n",
              "  <thead>\n",
              "    <tr style=\"text-align: right;\">\n",
              "      <th></th>\n",
              "      <th>mean radius</th>\n",
              "      <th>mean texture</th>\n",
              "      <th>mean perimeter</th>\n",
              "      <th>mean area</th>\n",
              "      <th>mean smoothness</th>\n",
              "      <th>mean compactness</th>\n",
              "      <th>mean concavity</th>\n",
              "      <th>mean concave points</th>\n",
              "      <th>mean symmetry</th>\n",
              "      <th>mean fractal dimension</th>\n",
              "      <th>radius error</th>\n",
              "      <th>texture error</th>\n",
              "      <th>perimeter error</th>\n",
              "      <th>area error</th>\n",
              "      <th>smoothness error</th>\n",
              "      <th>compactness error</th>\n",
              "      <th>concavity error</th>\n",
              "      <th>concave points error</th>\n",
              "      <th>symmetry error</th>\n",
              "      <th>fractal dimension error</th>\n",
              "      <th>worst radius</th>\n",
              "      <th>worst texture</th>\n",
              "      <th>worst perimeter</th>\n",
              "      <th>worst area</th>\n",
              "      <th>worst smoothness</th>\n",
              "      <th>worst compactness</th>\n",
              "      <th>worst concavity</th>\n",
              "      <th>worst concave points</th>\n",
              "      <th>worst symmetry</th>\n",
              "      <th>worst fractal dimension</th>\n",
              "    </tr>\n",
              "  </thead>\n",
              "  <tbody>\n",
              "    <tr>\n",
              "      <th>mean radius</th>\n",
              "      <td>1.000000</td>\n",
              "      <td>0.323782</td>\n",
              "      <td>0.997855</td>\n",
              "      <td>0.987357</td>\n",
              "      <td>0.170581</td>\n",
              "      <td>0.506124</td>\n",
              "      <td>0.676764</td>\n",
              "      <td>0.822529</td>\n",
              "      <td>0.147741</td>\n",
              "      <td>-0.311631</td>\n",
              "      <td>0.679090</td>\n",
              "      <td>-0.097317</td>\n",
              "      <td>0.674172</td>\n",
              "      <td>0.735864</td>\n",
              "      <td>-0.222600</td>\n",
              "      <td>0.206000</td>\n",
              "      <td>0.194204</td>\n",
              "      <td>0.376169</td>\n",
              "      <td>-0.104321</td>\n",
              "      <td>-0.042641</td>\n",
              "      <td>0.969539</td>\n",
              "      <td>0.297008</td>\n",
              "      <td>0.965137</td>\n",
              "      <td>0.941082</td>\n",
              "      <td>0.119616</td>\n",
              "      <td>0.413463</td>\n",
              "      <td>0.526911</td>\n",
              "      <td>0.744214</td>\n",
              "      <td>0.163953</td>\n",
              "      <td>0.007066</td>\n",
              "    </tr>\n",
              "    <tr>\n",
              "      <th>mean texture</th>\n",
              "      <td>0.323782</td>\n",
              "      <td>1.000000</td>\n",
              "      <td>0.329533</td>\n",
              "      <td>0.321086</td>\n",
              "      <td>-0.023389</td>\n",
              "      <td>0.236702</td>\n",
              "      <td>0.302418</td>\n",
              "      <td>0.293464</td>\n",
              "      <td>0.071401</td>\n",
              "      <td>-0.076437</td>\n",
              "      <td>0.275869</td>\n",
              "      <td>0.386358</td>\n",
              "      <td>0.281673</td>\n",
              "      <td>0.259845</td>\n",
              "      <td>0.006614</td>\n",
              "      <td>0.191975</td>\n",
              "      <td>0.143293</td>\n",
              "      <td>0.163851</td>\n",
              "      <td>0.009127</td>\n",
              "      <td>0.054458</td>\n",
              "      <td>0.352573</td>\n",
              "      <td>0.912045</td>\n",
              "      <td>0.358040</td>\n",
              "      <td>0.343546</td>\n",
              "      <td>0.077503</td>\n",
              "      <td>0.277830</td>\n",
              "      <td>0.301025</td>\n",
              "      <td>0.295316</td>\n",
              "      <td>0.105008</td>\n",
              "      <td>0.119205</td>\n",
              "    </tr>\n",
              "    <tr>\n",
              "      <th>mean perimeter</th>\n",
              "      <td>0.997855</td>\n",
              "      <td>0.329533</td>\n",
              "      <td>1.000000</td>\n",
              "      <td>0.986507</td>\n",
              "      <td>0.207278</td>\n",
              "      <td>0.556936</td>\n",
              "      <td>0.716136</td>\n",
              "      <td>0.850977</td>\n",
              "      <td>0.183027</td>\n",
              "      <td>-0.261477</td>\n",
              "      <td>0.691765</td>\n",
              "      <td>-0.086761</td>\n",
              "      <td>0.693135</td>\n",
              "      <td>0.744983</td>\n",
              "      <td>-0.202694</td>\n",
              "      <td>0.250744</td>\n",
              "      <td>0.228082</td>\n",
              "      <td>0.407217</td>\n",
              "      <td>-0.081629</td>\n",
              "      <td>-0.005523</td>\n",
              "      <td>0.969476</td>\n",
              "      <td>0.303038</td>\n",
              "      <td>0.970387</td>\n",
              "      <td>0.941550</td>\n",
              "      <td>0.150549</td>\n",
              "      <td>0.455774</td>\n",
              "      <td>0.563879</td>\n",
              "      <td>0.771241</td>\n",
              "      <td>0.189115</td>\n",
              "      <td>0.051019</td>\n",
              "    </tr>\n",
              "    <tr>\n",
              "      <th>mean area</th>\n",
              "      <td>0.987357</td>\n",
              "      <td>0.321086</td>\n",
              "      <td>0.986507</td>\n",
              "      <td>1.000000</td>\n",
              "      <td>0.177028</td>\n",
              "      <td>0.498502</td>\n",
              "      <td>0.685983</td>\n",
              "      <td>0.823269</td>\n",
              "      <td>0.151293</td>\n",
              "      <td>-0.283110</td>\n",
              "      <td>0.732562</td>\n",
              "      <td>-0.066280</td>\n",
              "      <td>0.726628</td>\n",
              "      <td>0.800086</td>\n",
              "      <td>-0.166777</td>\n",
              "      <td>0.212583</td>\n",
              "      <td>0.207660</td>\n",
              "      <td>0.372320</td>\n",
              "      <td>-0.072497</td>\n",
              "      <td>-0.019887</td>\n",
              "      <td>0.962746</td>\n",
              "      <td>0.287489</td>\n",
              "      <td>0.959120</td>\n",
              "      <td>0.959213</td>\n",
              "      <td>0.123523</td>\n",
              "      <td>0.390410</td>\n",
              "      <td>0.512606</td>\n",
              "      <td>0.722017</td>\n",
              "      <td>0.143570</td>\n",
              "      <td>0.003738</td>\n",
              "    </tr>\n",
              "    <tr>\n",
              "      <th>mean smoothness</th>\n",
              "      <td>0.170581</td>\n",
              "      <td>-0.023389</td>\n",
              "      <td>0.207278</td>\n",
              "      <td>0.177028</td>\n",
              "      <td>1.000000</td>\n",
              "      <td>0.659123</td>\n",
              "      <td>0.521984</td>\n",
              "      <td>0.553695</td>\n",
              "      <td>0.557775</td>\n",
              "      <td>0.584792</td>\n",
              "      <td>0.301467</td>\n",
              "      <td>0.068406</td>\n",
              "      <td>0.296092</td>\n",
              "      <td>0.246552</td>\n",
              "      <td>0.332375</td>\n",
              "      <td>0.318943</td>\n",
              "      <td>0.248396</td>\n",
              "      <td>0.380676</td>\n",
              "      <td>0.200774</td>\n",
              "      <td>0.283607</td>\n",
              "      <td>0.213120</td>\n",
              "      <td>0.036072</td>\n",
              "      <td>0.238853</td>\n",
              "      <td>0.206718</td>\n",
              "      <td>0.805324</td>\n",
              "      <td>0.472468</td>\n",
              "      <td>0.434926</td>\n",
              "      <td>0.503053</td>\n",
              "      <td>0.394309</td>\n",
              "      <td>0.499316</td>\n",
              "    </tr>\n",
              "    <tr>\n",
              "      <th>mean compactness</th>\n",
              "      <td>0.506124</td>\n",
              "      <td>0.236702</td>\n",
              "      <td>0.556936</td>\n",
              "      <td>0.498502</td>\n",
              "      <td>0.659123</td>\n",
              "      <td>1.000000</td>\n",
              "      <td>0.883121</td>\n",
              "      <td>0.831135</td>\n",
              "      <td>0.602641</td>\n",
              "      <td>0.565369</td>\n",
              "      <td>0.497473</td>\n",
              "      <td>0.046205</td>\n",
              "      <td>0.548905</td>\n",
              "      <td>0.455653</td>\n",
              "      <td>0.135299</td>\n",
              "      <td>0.738722</td>\n",
              "      <td>0.570517</td>\n",
              "      <td>0.642262</td>\n",
              "      <td>0.229977</td>\n",
              "      <td>0.507318</td>\n",
              "      <td>0.535315</td>\n",
              "      <td>0.248133</td>\n",
              "      <td>0.590210</td>\n",
              "      <td>0.509604</td>\n",
              "      <td>0.565541</td>\n",
              "      <td>0.865809</td>\n",
              "      <td>0.816275</td>\n",
              "      <td>0.815573</td>\n",
              "      <td>0.510223</td>\n",
              "      <td>0.687382</td>\n",
              "    </tr>\n",
              "    <tr>\n",
              "      <th>mean concavity</th>\n",
              "      <td>0.676764</td>\n",
              "      <td>0.302418</td>\n",
              "      <td>0.716136</td>\n",
              "      <td>0.685983</td>\n",
              "      <td>0.521984</td>\n",
              "      <td>0.883121</td>\n",
              "      <td>1.000000</td>\n",
              "      <td>0.921391</td>\n",
              "      <td>0.500667</td>\n",
              "      <td>0.336783</td>\n",
              "      <td>0.631925</td>\n",
              "      <td>0.076218</td>\n",
              "      <td>0.660391</td>\n",
              "      <td>0.617427</td>\n",
              "      <td>0.098564</td>\n",
              "      <td>0.670279</td>\n",
              "      <td>0.691270</td>\n",
              "      <td>0.683260</td>\n",
              "      <td>0.178009</td>\n",
              "      <td>0.449301</td>\n",
              "      <td>0.688236</td>\n",
              "      <td>0.299879</td>\n",
              "      <td>0.729565</td>\n",
              "      <td>0.675987</td>\n",
              "      <td>0.448822</td>\n",
              "      <td>0.754968</td>\n",
              "      <td>0.884103</td>\n",
              "      <td>0.861323</td>\n",
              "      <td>0.409464</td>\n",
              "      <td>0.514930</td>\n",
              "    </tr>\n",
              "    <tr>\n",
              "      <th>mean concave points</th>\n",
              "      <td>0.822529</td>\n",
              "      <td>0.293464</td>\n",
              "      <td>0.850977</td>\n",
              "      <td>0.823269</td>\n",
              "      <td>0.553695</td>\n",
              "      <td>0.831135</td>\n",
              "      <td>0.921391</td>\n",
              "      <td>1.000000</td>\n",
              "      <td>0.462497</td>\n",
              "      <td>0.166917</td>\n",
              "      <td>0.698050</td>\n",
              "      <td>0.021480</td>\n",
              "      <td>0.710650</td>\n",
              "      <td>0.690299</td>\n",
              "      <td>0.027653</td>\n",
              "      <td>0.490424</td>\n",
              "      <td>0.439167</td>\n",
              "      <td>0.615634</td>\n",
              "      <td>0.095351</td>\n",
              "      <td>0.257584</td>\n",
              "      <td>0.830318</td>\n",
              "      <td>0.292752</td>\n",
              "      <td>0.855923</td>\n",
              "      <td>0.809630</td>\n",
              "      <td>0.452753</td>\n",
              "      <td>0.667454</td>\n",
              "      <td>0.752399</td>\n",
              "      <td>0.910155</td>\n",
              "      <td>0.375744</td>\n",
              "      <td>0.368661</td>\n",
              "    </tr>\n",
              "    <tr>\n",
              "      <th>mean symmetry</th>\n",
              "      <td>0.147741</td>\n",
              "      <td>0.071401</td>\n",
              "      <td>0.183027</td>\n",
              "      <td>0.151293</td>\n",
              "      <td>0.557775</td>\n",
              "      <td>0.602641</td>\n",
              "      <td>0.500667</td>\n",
              "      <td>0.462497</td>\n",
              "      <td>1.000000</td>\n",
              "      <td>0.479921</td>\n",
              "      <td>0.303379</td>\n",
              "      <td>0.128053</td>\n",
              "      <td>0.313893</td>\n",
              "      <td>0.223970</td>\n",
              "      <td>0.187321</td>\n",
              "      <td>0.421659</td>\n",
              "      <td>0.342627</td>\n",
              "      <td>0.393298</td>\n",
              "      <td>0.449137</td>\n",
              "      <td>0.331786</td>\n",
              "      <td>0.185728</td>\n",
              "      <td>0.090651</td>\n",
              "      <td>0.219169</td>\n",
              "      <td>0.177193</td>\n",
              "      <td>0.426675</td>\n",
              "      <td>0.473200</td>\n",
              "      <td>0.433721</td>\n",
              "      <td>0.430297</td>\n",
              "      <td>0.699826</td>\n",
              "      <td>0.438413</td>\n",
              "    </tr>\n",
              "    <tr>\n",
              "      <th>mean fractal dimension</th>\n",
              "      <td>-0.311631</td>\n",
              "      <td>-0.076437</td>\n",
              "      <td>-0.261477</td>\n",
              "      <td>-0.283110</td>\n",
              "      <td>0.584792</td>\n",
              "      <td>0.565369</td>\n",
              "      <td>0.336783</td>\n",
              "      <td>0.166917</td>\n",
              "      <td>0.479921</td>\n",
              "      <td>1.000000</td>\n",
              "      <td>0.000111</td>\n",
              "      <td>0.164174</td>\n",
              "      <td>0.039830</td>\n",
              "      <td>-0.090170</td>\n",
              "      <td>0.401964</td>\n",
              "      <td>0.559837</td>\n",
              "      <td>0.446630</td>\n",
              "      <td>0.341198</td>\n",
              "      <td>0.345007</td>\n",
              "      <td>0.688132</td>\n",
              "      <td>-0.253691</td>\n",
              "      <td>-0.051269</td>\n",
              "      <td>-0.205151</td>\n",
              "      <td>-0.231854</td>\n",
              "      <td>0.504942</td>\n",
              "      <td>0.458798</td>\n",
              "      <td>0.346234</td>\n",
              "      <td>0.175325</td>\n",
              "      <td>0.334019</td>\n",
              "      <td>0.767297</td>\n",
              "    </tr>\n",
              "    <tr>\n",
              "      <th>radius error</th>\n",
              "      <td>0.679090</td>\n",
              "      <td>0.275869</td>\n",
              "      <td>0.691765</td>\n",
              "      <td>0.732562</td>\n",
              "      <td>0.301467</td>\n",
              "      <td>0.497473</td>\n",
              "      <td>0.631925</td>\n",
              "      <td>0.698050</td>\n",
              "      <td>0.303379</td>\n",
              "      <td>0.000111</td>\n",
              "      <td>1.000000</td>\n",
              "      <td>0.213247</td>\n",
              "      <td>0.972794</td>\n",
              "      <td>0.951830</td>\n",
              "      <td>0.164514</td>\n",
              "      <td>0.356065</td>\n",
              "      <td>0.332358</td>\n",
              "      <td>0.513346</td>\n",
              "      <td>0.240567</td>\n",
              "      <td>0.227754</td>\n",
              "      <td>0.715065</td>\n",
              "      <td>0.194799</td>\n",
              "      <td>0.719684</td>\n",
              "      <td>0.751548</td>\n",
              "      <td>0.141919</td>\n",
              "      <td>0.287103</td>\n",
              "      <td>0.380585</td>\n",
              "      <td>0.531062</td>\n",
              "      <td>0.094543</td>\n",
              "      <td>0.049559</td>\n",
              "    </tr>\n",
              "    <tr>\n",
              "      <th>texture error</th>\n",
              "      <td>-0.097317</td>\n",
              "      <td>0.386358</td>\n",
              "      <td>-0.086761</td>\n",
              "      <td>-0.066280</td>\n",
              "      <td>0.068406</td>\n",
              "      <td>0.046205</td>\n",
              "      <td>0.076218</td>\n",
              "      <td>0.021480</td>\n",
              "      <td>0.128053</td>\n",
              "      <td>0.164174</td>\n",
              "      <td>0.213247</td>\n",
              "      <td>1.000000</td>\n",
              "      <td>0.223171</td>\n",
              "      <td>0.111567</td>\n",
              "      <td>0.397243</td>\n",
              "      <td>0.231700</td>\n",
              "      <td>0.194998</td>\n",
              "      <td>0.230283</td>\n",
              "      <td>0.411621</td>\n",
              "      <td>0.279723</td>\n",
              "      <td>-0.111690</td>\n",
              "      <td>0.409003</td>\n",
              "      <td>-0.102242</td>\n",
              "      <td>-0.083195</td>\n",
              "      <td>-0.073658</td>\n",
              "      <td>-0.092439</td>\n",
              "      <td>-0.068956</td>\n",
              "      <td>-0.119638</td>\n",
              "      <td>-0.128215</td>\n",
              "      <td>-0.045655</td>\n",
              "    </tr>\n",
              "    <tr>\n",
              "      <th>perimeter error</th>\n",
              "      <td>0.674172</td>\n",
              "      <td>0.281673</td>\n",
              "      <td>0.693135</td>\n",
              "      <td>0.726628</td>\n",
              "      <td>0.296092</td>\n",
              "      <td>0.548905</td>\n",
              "      <td>0.660391</td>\n",
              "      <td>0.710650</td>\n",
              "      <td>0.313893</td>\n",
              "      <td>0.039830</td>\n",
              "      <td>0.972794</td>\n",
              "      <td>0.223171</td>\n",
              "      <td>1.000000</td>\n",
              "      <td>0.937655</td>\n",
              "      <td>0.151075</td>\n",
              "      <td>0.416322</td>\n",
              "      <td>0.362482</td>\n",
              "      <td>0.556264</td>\n",
              "      <td>0.266487</td>\n",
              "      <td>0.244143</td>\n",
              "      <td>0.697201</td>\n",
              "      <td>0.200371</td>\n",
              "      <td>0.721031</td>\n",
              "      <td>0.730713</td>\n",
              "      <td>0.130054</td>\n",
              "      <td>0.341919</td>\n",
              "      <td>0.418899</td>\n",
              "      <td>0.554897</td>\n",
              "      <td>0.109930</td>\n",
              "      <td>0.085433</td>\n",
              "    </tr>\n",
              "    <tr>\n",
              "      <th>area error</th>\n",
              "      <td>0.735864</td>\n",
              "      <td>0.259845</td>\n",
              "      <td>0.744983</td>\n",
              "      <td>0.800086</td>\n",
              "      <td>0.246552</td>\n",
              "      <td>0.455653</td>\n",
              "      <td>0.617427</td>\n",
              "      <td>0.690299</td>\n",
              "      <td>0.223970</td>\n",
              "      <td>-0.090170</td>\n",
              "      <td>0.951830</td>\n",
              "      <td>0.111567</td>\n",
              "      <td>0.937655</td>\n",
              "      <td>1.000000</td>\n",
              "      <td>0.075150</td>\n",
              "      <td>0.284840</td>\n",
              "      <td>0.270895</td>\n",
              "      <td>0.415730</td>\n",
              "      <td>0.134109</td>\n",
              "      <td>0.127071</td>\n",
              "      <td>0.757373</td>\n",
              "      <td>0.196497</td>\n",
              "      <td>0.761213</td>\n",
              "      <td>0.811408</td>\n",
              "      <td>0.125389</td>\n",
              "      <td>0.283257</td>\n",
              "      <td>0.385100</td>\n",
              "      <td>0.538166</td>\n",
              "      <td>0.074126</td>\n",
              "      <td>0.017539</td>\n",
              "    </tr>\n",
              "    <tr>\n",
              "      <th>smoothness error</th>\n",
              "      <td>-0.222600</td>\n",
              "      <td>0.006614</td>\n",
              "      <td>-0.202694</td>\n",
              "      <td>-0.166777</td>\n",
              "      <td>0.332375</td>\n",
              "      <td>0.135299</td>\n",
              "      <td>0.098564</td>\n",
              "      <td>0.027653</td>\n",
              "      <td>0.187321</td>\n",
              "      <td>0.401964</td>\n",
              "      <td>0.164514</td>\n",
              "      <td>0.397243</td>\n",
              "      <td>0.151075</td>\n",
              "      <td>0.075150</td>\n",
              "      <td>1.000000</td>\n",
              "      <td>0.336696</td>\n",
              "      <td>0.268685</td>\n",
              "      <td>0.328429</td>\n",
              "      <td>0.413506</td>\n",
              "      <td>0.427374</td>\n",
              "      <td>-0.230691</td>\n",
              "      <td>-0.074743</td>\n",
              "      <td>-0.217304</td>\n",
              "      <td>-0.182195</td>\n",
              "      <td>0.314457</td>\n",
              "      <td>-0.055558</td>\n",
              "      <td>-0.058298</td>\n",
              "      <td>-0.102007</td>\n",
              "      <td>-0.107342</td>\n",
              "      <td>0.101480</td>\n",
              "    </tr>\n",
              "    <tr>\n",
              "      <th>compactness error</th>\n",
              "      <td>0.206000</td>\n",
              "      <td>0.191975</td>\n",
              "      <td>0.250744</td>\n",
              "      <td>0.212583</td>\n",
              "      <td>0.318943</td>\n",
              "      <td>0.738722</td>\n",
              "      <td>0.670279</td>\n",
              "      <td>0.490424</td>\n",
              "      <td>0.421659</td>\n",
              "      <td>0.559837</td>\n",
              "      <td>0.356065</td>\n",
              "      <td>0.231700</td>\n",
              "      <td>0.416322</td>\n",
              "      <td>0.284840</td>\n",
              "      <td>0.336696</td>\n",
              "      <td>1.000000</td>\n",
              "      <td>0.801268</td>\n",
              "      <td>0.744083</td>\n",
              "      <td>0.394713</td>\n",
              "      <td>0.803269</td>\n",
              "      <td>0.204607</td>\n",
              "      <td>0.143003</td>\n",
              "      <td>0.260516</td>\n",
              "      <td>0.199371</td>\n",
              "      <td>0.227394</td>\n",
              "      <td>0.678780</td>\n",
              "      <td>0.639147</td>\n",
              "      <td>0.483208</td>\n",
              "      <td>0.277878</td>\n",
              "      <td>0.590973</td>\n",
              "    </tr>\n",
              "    <tr>\n",
              "      <th>concavity error</th>\n",
              "      <td>0.194204</td>\n",
              "      <td>0.143293</td>\n",
              "      <td>0.228082</td>\n",
              "      <td>0.207660</td>\n",
              "      <td>0.248396</td>\n",
              "      <td>0.570517</td>\n",
              "      <td>0.691270</td>\n",
              "      <td>0.439167</td>\n",
              "      <td>0.342627</td>\n",
              "      <td>0.446630</td>\n",
              "      <td>0.332358</td>\n",
              "      <td>0.194998</td>\n",
              "      <td>0.362482</td>\n",
              "      <td>0.270895</td>\n",
              "      <td>0.268685</td>\n",
              "      <td>0.801268</td>\n",
              "      <td>1.000000</td>\n",
              "      <td>0.771804</td>\n",
              "      <td>0.309429</td>\n",
              "      <td>0.727372</td>\n",
              "      <td>0.186904</td>\n",
              "      <td>0.100241</td>\n",
              "      <td>0.226680</td>\n",
              "      <td>0.188353</td>\n",
              "      <td>0.168481</td>\n",
              "      <td>0.484858</td>\n",
              "      <td>0.662564</td>\n",
              "      <td>0.440472</td>\n",
              "      <td>0.197788</td>\n",
              "      <td>0.439329</td>\n",
              "    </tr>\n",
              "    <tr>\n",
              "      <th>concave points error</th>\n",
              "      <td>0.376169</td>\n",
              "      <td>0.163851</td>\n",
              "      <td>0.407217</td>\n",
              "      <td>0.372320</td>\n",
              "      <td>0.380676</td>\n",
              "      <td>0.642262</td>\n",
              "      <td>0.683260</td>\n",
              "      <td>0.615634</td>\n",
              "      <td>0.393298</td>\n",
              "      <td>0.341198</td>\n",
              "      <td>0.513346</td>\n",
              "      <td>0.230283</td>\n",
              "      <td>0.556264</td>\n",
              "      <td>0.415730</td>\n",
              "      <td>0.328429</td>\n",
              "      <td>0.744083</td>\n",
              "      <td>0.771804</td>\n",
              "      <td>1.000000</td>\n",
              "      <td>0.312780</td>\n",
              "      <td>0.611044</td>\n",
              "      <td>0.358127</td>\n",
              "      <td>0.086741</td>\n",
              "      <td>0.394999</td>\n",
              "      <td>0.342271</td>\n",
              "      <td>0.215351</td>\n",
              "      <td>0.452888</td>\n",
              "      <td>0.549592</td>\n",
              "      <td>0.602450</td>\n",
              "      <td>0.143116</td>\n",
              "      <td>0.310655</td>\n",
              "    </tr>\n",
              "    <tr>\n",
              "      <th>symmetry error</th>\n",
              "      <td>-0.104321</td>\n",
              "      <td>0.009127</td>\n",
              "      <td>-0.081629</td>\n",
              "      <td>-0.072497</td>\n",
              "      <td>0.200774</td>\n",
              "      <td>0.229977</td>\n",
              "      <td>0.178009</td>\n",
              "      <td>0.095351</td>\n",
              "      <td>0.449137</td>\n",
              "      <td>0.345007</td>\n",
              "      <td>0.240567</td>\n",
              "      <td>0.411621</td>\n",
              "      <td>0.266487</td>\n",
              "      <td>0.134109</td>\n",
              "      <td>0.413506</td>\n",
              "      <td>0.394713</td>\n",
              "      <td>0.309429</td>\n",
              "      <td>0.312780</td>\n",
              "      <td>1.000000</td>\n",
              "      <td>0.369078</td>\n",
              "      <td>-0.128121</td>\n",
              "      <td>-0.077473</td>\n",
              "      <td>-0.103753</td>\n",
              "      <td>-0.110343</td>\n",
              "      <td>-0.012662</td>\n",
              "      <td>0.060255</td>\n",
              "      <td>0.037119</td>\n",
              "      <td>-0.030413</td>\n",
              "      <td>0.389402</td>\n",
              "      <td>0.078079</td>\n",
              "    </tr>\n",
              "    <tr>\n",
              "      <th>fractal dimension error</th>\n",
              "      <td>-0.042641</td>\n",
              "      <td>0.054458</td>\n",
              "      <td>-0.005523</td>\n",
              "      <td>-0.019887</td>\n",
              "      <td>0.283607</td>\n",
              "      <td>0.507318</td>\n",
              "      <td>0.449301</td>\n",
              "      <td>0.257584</td>\n",
              "      <td>0.331786</td>\n",
              "      <td>0.688132</td>\n",
              "      <td>0.227754</td>\n",
              "      <td>0.279723</td>\n",
              "      <td>0.244143</td>\n",
              "      <td>0.127071</td>\n",
              "      <td>0.427374</td>\n",
              "      <td>0.803269</td>\n",
              "      <td>0.727372</td>\n",
              "      <td>0.611044</td>\n",
              "      <td>0.369078</td>\n",
              "      <td>1.000000</td>\n",
              "      <td>-0.037488</td>\n",
              "      <td>-0.003195</td>\n",
              "      <td>-0.001000</td>\n",
              "      <td>-0.022736</td>\n",
              "      <td>0.170568</td>\n",
              "      <td>0.390159</td>\n",
              "      <td>0.379975</td>\n",
              "      <td>0.215204</td>\n",
              "      <td>0.111094</td>\n",
              "      <td>0.591328</td>\n",
              "    </tr>\n",
              "    <tr>\n",
              "      <th>worst radius</th>\n",
              "      <td>0.969539</td>\n",
              "      <td>0.352573</td>\n",
              "      <td>0.969476</td>\n",
              "      <td>0.962746</td>\n",
              "      <td>0.213120</td>\n",
              "      <td>0.535315</td>\n",
              "      <td>0.688236</td>\n",
              "      <td>0.830318</td>\n",
              "      <td>0.185728</td>\n",
              "      <td>-0.253691</td>\n",
              "      <td>0.715065</td>\n",
              "      <td>-0.111690</td>\n",
              "      <td>0.697201</td>\n",
              "      <td>0.757373</td>\n",
              "      <td>-0.230691</td>\n",
              "      <td>0.204607</td>\n",
              "      <td>0.186904</td>\n",
              "      <td>0.358127</td>\n",
              "      <td>-0.128121</td>\n",
              "      <td>-0.037488</td>\n",
              "      <td>1.000000</td>\n",
              "      <td>0.359921</td>\n",
              "      <td>0.993708</td>\n",
              "      <td>0.984015</td>\n",
              "      <td>0.216574</td>\n",
              "      <td>0.475820</td>\n",
              "      <td>0.573975</td>\n",
              "      <td>0.787424</td>\n",
              "      <td>0.243529</td>\n",
              "      <td>0.093492</td>\n",
              "    </tr>\n",
              "    <tr>\n",
              "      <th>worst texture</th>\n",
              "      <td>0.297008</td>\n",
              "      <td>0.912045</td>\n",
              "      <td>0.303038</td>\n",
              "      <td>0.287489</td>\n",
              "      <td>0.036072</td>\n",
              "      <td>0.248133</td>\n",
              "      <td>0.299879</td>\n",
              "      <td>0.292752</td>\n",
              "      <td>0.090651</td>\n",
              "      <td>-0.051269</td>\n",
              "      <td>0.194799</td>\n",
              "      <td>0.409003</td>\n",
              "      <td>0.200371</td>\n",
              "      <td>0.196497</td>\n",
              "      <td>-0.074743</td>\n",
              "      <td>0.143003</td>\n",
              "      <td>0.100241</td>\n",
              "      <td>0.086741</td>\n",
              "      <td>-0.077473</td>\n",
              "      <td>-0.003195</td>\n",
              "      <td>0.359921</td>\n",
              "      <td>1.000000</td>\n",
              "      <td>0.365098</td>\n",
              "      <td>0.345842</td>\n",
              "      <td>0.225429</td>\n",
              "      <td>0.360832</td>\n",
              "      <td>0.368366</td>\n",
              "      <td>0.359755</td>\n",
              "      <td>0.233027</td>\n",
              "      <td>0.219122</td>\n",
              "    </tr>\n",
              "    <tr>\n",
              "      <th>worst perimeter</th>\n",
              "      <td>0.965137</td>\n",
              "      <td>0.358040</td>\n",
              "      <td>0.970387</td>\n",
              "      <td>0.959120</td>\n",
              "      <td>0.238853</td>\n",
              "      <td>0.590210</td>\n",
              "      <td>0.729565</td>\n",
              "      <td>0.855923</td>\n",
              "      <td>0.219169</td>\n",
              "      <td>-0.205151</td>\n",
              "      <td>0.719684</td>\n",
              "      <td>-0.102242</td>\n",
              "      <td>0.721031</td>\n",
              "      <td>0.761213</td>\n",
              "      <td>-0.217304</td>\n",
              "      <td>0.260516</td>\n",
              "      <td>0.226680</td>\n",
              "      <td>0.394999</td>\n",
              "      <td>-0.103753</td>\n",
              "      <td>-0.001000</td>\n",
              "      <td>0.993708</td>\n",
              "      <td>0.365098</td>\n",
              "      <td>1.000000</td>\n",
              "      <td>0.977578</td>\n",
              "      <td>0.236775</td>\n",
              "      <td>0.529408</td>\n",
              "      <td>0.618344</td>\n",
              "      <td>0.816322</td>\n",
              "      <td>0.269493</td>\n",
              "      <td>0.138957</td>\n",
              "    </tr>\n",
              "    <tr>\n",
              "      <th>worst area</th>\n",
              "      <td>0.941082</td>\n",
              "      <td>0.343546</td>\n",
              "      <td>0.941550</td>\n",
              "      <td>0.959213</td>\n",
              "      <td>0.206718</td>\n",
              "      <td>0.509604</td>\n",
              "      <td>0.675987</td>\n",
              "      <td>0.809630</td>\n",
              "      <td>0.177193</td>\n",
              "      <td>-0.231854</td>\n",
              "      <td>0.751548</td>\n",
              "      <td>-0.083195</td>\n",
              "      <td>0.730713</td>\n",
              "      <td>0.811408</td>\n",
              "      <td>-0.182195</td>\n",
              "      <td>0.199371</td>\n",
              "      <td>0.188353</td>\n",
              "      <td>0.342271</td>\n",
              "      <td>-0.110343</td>\n",
              "      <td>-0.022736</td>\n",
              "      <td>0.984015</td>\n",
              "      <td>0.345842</td>\n",
              "      <td>0.977578</td>\n",
              "      <td>1.000000</td>\n",
              "      <td>0.209145</td>\n",
              "      <td>0.438296</td>\n",
              "      <td>0.543331</td>\n",
              "      <td>0.747419</td>\n",
              "      <td>0.209146</td>\n",
              "      <td>0.079647</td>\n",
              "    </tr>\n",
              "    <tr>\n",
              "      <th>worst smoothness</th>\n",
              "      <td>0.119616</td>\n",
              "      <td>0.077503</td>\n",
              "      <td>0.150549</td>\n",
              "      <td>0.123523</td>\n",
              "      <td>0.805324</td>\n",
              "      <td>0.565541</td>\n",
              "      <td>0.448822</td>\n",
              "      <td>0.452753</td>\n",
              "      <td>0.426675</td>\n",
              "      <td>0.504942</td>\n",
              "      <td>0.141919</td>\n",
              "      <td>-0.073658</td>\n",
              "      <td>0.130054</td>\n",
              "      <td>0.125389</td>\n",
              "      <td>0.314457</td>\n",
              "      <td>0.227394</td>\n",
              "      <td>0.168481</td>\n",
              "      <td>0.215351</td>\n",
              "      <td>-0.012662</td>\n",
              "      <td>0.170568</td>\n",
              "      <td>0.216574</td>\n",
              "      <td>0.225429</td>\n",
              "      <td>0.236775</td>\n",
              "      <td>0.209145</td>\n",
              "      <td>1.000000</td>\n",
              "      <td>0.568187</td>\n",
              "      <td>0.518523</td>\n",
              "      <td>0.547691</td>\n",
              "      <td>0.493838</td>\n",
              "      <td>0.617624</td>\n",
              "    </tr>\n",
              "    <tr>\n",
              "      <th>worst compactness</th>\n",
              "      <td>0.413463</td>\n",
              "      <td>0.277830</td>\n",
              "      <td>0.455774</td>\n",
              "      <td>0.390410</td>\n",
              "      <td>0.472468</td>\n",
              "      <td>0.865809</td>\n",
              "      <td>0.754968</td>\n",
              "      <td>0.667454</td>\n",
              "      <td>0.473200</td>\n",
              "      <td>0.458798</td>\n",
              "      <td>0.287103</td>\n",
              "      <td>-0.092439</td>\n",
              "      <td>0.341919</td>\n",
              "      <td>0.283257</td>\n",
              "      <td>-0.055558</td>\n",
              "      <td>0.678780</td>\n",
              "      <td>0.484858</td>\n",
              "      <td>0.452888</td>\n",
              "      <td>0.060255</td>\n",
              "      <td>0.390159</td>\n",
              "      <td>0.475820</td>\n",
              "      <td>0.360832</td>\n",
              "      <td>0.529408</td>\n",
              "      <td>0.438296</td>\n",
              "      <td>0.568187</td>\n",
              "      <td>1.000000</td>\n",
              "      <td>0.892261</td>\n",
              "      <td>0.801080</td>\n",
              "      <td>0.614441</td>\n",
              "      <td>0.810455</td>\n",
              "    </tr>\n",
              "    <tr>\n",
              "      <th>worst concavity</th>\n",
              "      <td>0.526911</td>\n",
              "      <td>0.301025</td>\n",
              "      <td>0.563879</td>\n",
              "      <td>0.512606</td>\n",
              "      <td>0.434926</td>\n",
              "      <td>0.816275</td>\n",
              "      <td>0.884103</td>\n",
              "      <td>0.752399</td>\n",
              "      <td>0.433721</td>\n",
              "      <td>0.346234</td>\n",
              "      <td>0.380585</td>\n",
              "      <td>-0.068956</td>\n",
              "      <td>0.418899</td>\n",
              "      <td>0.385100</td>\n",
              "      <td>-0.058298</td>\n",
              "      <td>0.639147</td>\n",
              "      <td>0.662564</td>\n",
              "      <td>0.549592</td>\n",
              "      <td>0.037119</td>\n",
              "      <td>0.379975</td>\n",
              "      <td>0.573975</td>\n",
              "      <td>0.368366</td>\n",
              "      <td>0.618344</td>\n",
              "      <td>0.543331</td>\n",
              "      <td>0.518523</td>\n",
              "      <td>0.892261</td>\n",
              "      <td>1.000000</td>\n",
              "      <td>0.855434</td>\n",
              "      <td>0.532520</td>\n",
              "      <td>0.686511</td>\n",
              "    </tr>\n",
              "    <tr>\n",
              "      <th>worst concave points</th>\n",
              "      <td>0.744214</td>\n",
              "      <td>0.295316</td>\n",
              "      <td>0.771241</td>\n",
              "      <td>0.722017</td>\n",
              "      <td>0.503053</td>\n",
              "      <td>0.815573</td>\n",
              "      <td>0.861323</td>\n",
              "      <td>0.910155</td>\n",
              "      <td>0.430297</td>\n",
              "      <td>0.175325</td>\n",
              "      <td>0.531062</td>\n",
              "      <td>-0.119638</td>\n",
              "      <td>0.554897</td>\n",
              "      <td>0.538166</td>\n",
              "      <td>-0.102007</td>\n",
              "      <td>0.483208</td>\n",
              "      <td>0.440472</td>\n",
              "      <td>0.602450</td>\n",
              "      <td>-0.030413</td>\n",
              "      <td>0.215204</td>\n",
              "      <td>0.787424</td>\n",
              "      <td>0.359755</td>\n",
              "      <td>0.816322</td>\n",
              "      <td>0.747419</td>\n",
              "      <td>0.547691</td>\n",
              "      <td>0.801080</td>\n",
              "      <td>0.855434</td>\n",
              "      <td>1.000000</td>\n",
              "      <td>0.502528</td>\n",
              "      <td>0.511114</td>\n",
              "    </tr>\n",
              "    <tr>\n",
              "      <th>worst symmetry</th>\n",
              "      <td>0.163953</td>\n",
              "      <td>0.105008</td>\n",
              "      <td>0.189115</td>\n",
              "      <td>0.143570</td>\n",
              "      <td>0.394309</td>\n",
              "      <td>0.510223</td>\n",
              "      <td>0.409464</td>\n",
              "      <td>0.375744</td>\n",
              "      <td>0.699826</td>\n",
              "      <td>0.334019</td>\n",
              "      <td>0.094543</td>\n",
              "      <td>-0.128215</td>\n",
              "      <td>0.109930</td>\n",
              "      <td>0.074126</td>\n",
              "      <td>-0.107342</td>\n",
              "      <td>0.277878</td>\n",
              "      <td>0.197788</td>\n",
              "      <td>0.143116</td>\n",
              "      <td>0.389402</td>\n",
              "      <td>0.111094</td>\n",
              "      <td>0.243529</td>\n",
              "      <td>0.233027</td>\n",
              "      <td>0.269493</td>\n",
              "      <td>0.209146</td>\n",
              "      <td>0.493838</td>\n",
              "      <td>0.614441</td>\n",
              "      <td>0.532520</td>\n",
              "      <td>0.502528</td>\n",
              "      <td>1.000000</td>\n",
              "      <td>0.537848</td>\n",
              "    </tr>\n",
              "    <tr>\n",
              "      <th>worst fractal dimension</th>\n",
              "      <td>0.007066</td>\n",
              "      <td>0.119205</td>\n",
              "      <td>0.051019</td>\n",
              "      <td>0.003738</td>\n",
              "      <td>0.499316</td>\n",
              "      <td>0.687382</td>\n",
              "      <td>0.514930</td>\n",
              "      <td>0.368661</td>\n",
              "      <td>0.438413</td>\n",
              "      <td>0.767297</td>\n",
              "      <td>0.049559</td>\n",
              "      <td>-0.045655</td>\n",
              "      <td>0.085433</td>\n",
              "      <td>0.017539</td>\n",
              "      <td>0.101480</td>\n",
              "      <td>0.590973</td>\n",
              "      <td>0.439329</td>\n",
              "      <td>0.310655</td>\n",
              "      <td>0.078079</td>\n",
              "      <td>0.591328</td>\n",
              "      <td>0.093492</td>\n",
              "      <td>0.219122</td>\n",
              "      <td>0.138957</td>\n",
              "      <td>0.079647</td>\n",
              "      <td>0.617624</td>\n",
              "      <td>0.810455</td>\n",
              "      <td>0.686511</td>\n",
              "      <td>0.511114</td>\n",
              "      <td>0.537848</td>\n",
              "      <td>1.000000</td>\n",
              "    </tr>\n",
              "  </tbody>\n",
              "</table>\n",
              "</div>"
            ],
            "text/plain": [
              "                         mean radius  ...  worst fractal dimension\n",
              "mean radius                 1.000000  ...                 0.007066\n",
              "mean texture                0.323782  ...                 0.119205\n",
              "mean perimeter              0.997855  ...                 0.051019\n",
              "mean area                   0.987357  ...                 0.003738\n",
              "mean smoothness             0.170581  ...                 0.499316\n",
              "mean compactness            0.506124  ...                 0.687382\n",
              "mean concavity              0.676764  ...                 0.514930\n",
              "mean concave points         0.822529  ...                 0.368661\n",
              "mean symmetry               0.147741  ...                 0.438413\n",
              "mean fractal dimension     -0.311631  ...                 0.767297\n",
              "radius error                0.679090  ...                 0.049559\n",
              "texture error              -0.097317  ...                -0.045655\n",
              "perimeter error             0.674172  ...                 0.085433\n",
              "area error                  0.735864  ...                 0.017539\n",
              "smoothness error           -0.222600  ...                 0.101480\n",
              "compactness error           0.206000  ...                 0.590973\n",
              "concavity error             0.194204  ...                 0.439329\n",
              "concave points error        0.376169  ...                 0.310655\n",
              "symmetry error             -0.104321  ...                 0.078079\n",
              "fractal dimension error    -0.042641  ...                 0.591328\n",
              "worst radius                0.969539  ...                 0.093492\n",
              "worst texture               0.297008  ...                 0.219122\n",
              "worst perimeter             0.965137  ...                 0.138957\n",
              "worst area                  0.941082  ...                 0.079647\n",
              "worst smoothness            0.119616  ...                 0.617624\n",
              "worst compactness           0.413463  ...                 0.810455\n",
              "worst concavity             0.526911  ...                 0.686511\n",
              "worst concave points        0.744214  ...                 0.511114\n",
              "worst symmetry              0.163953  ...                 0.537848\n",
              "worst fractal dimension     0.007066  ...                 1.000000\n",
              "\n",
              "[30 rows x 30 columns]"
            ]
          },
          "metadata": {
            "tags": []
          },
          "execution_count": 15
        }
      ]
    },
    {
      "cell_type": "code",
      "metadata": {
        "colab": {
          "base_uri": "https://localhost:8080/"
        },
        "id": "Fe9q3iHxUbM8",
        "outputId": "9a5d7571-ee59-4b66-ebbe-d88279fe5677"
      },
      "source": [
        "data.isnull().sum()"
      ],
      "execution_count": 16,
      "outputs": [
        {
          "output_type": "execute_result",
          "data": {
            "text/plain": [
              "mean radius                0\n",
              "mean texture               0\n",
              "mean perimeter             0\n",
              "mean area                  0\n",
              "mean smoothness            0\n",
              "mean compactness           0\n",
              "mean concavity             0\n",
              "mean concave points        0\n",
              "mean symmetry              0\n",
              "mean fractal dimension     0\n",
              "radius error               0\n",
              "texture error              0\n",
              "perimeter error            0\n",
              "area error                 0\n",
              "smoothness error           0\n",
              "compactness error          0\n",
              "concavity error            0\n",
              "concave points error       0\n",
              "symmetry error             0\n",
              "fractal dimension error    0\n",
              "worst radius               0\n",
              "worst texture              0\n",
              "worst perimeter            0\n",
              "worst area                 0\n",
              "worst smoothness           0\n",
              "worst compactness          0\n",
              "worst concavity            0\n",
              "worst concave points       0\n",
              "worst symmetry             0\n",
              "worst fractal dimension    0\n",
              "dtype: int64"
            ]
          },
          "metadata": {
            "tags": []
          },
          "execution_count": 16
        }
      ]
    },
    {
      "cell_type": "code",
      "metadata": {
        "colab": {
          "base_uri": "https://localhost:8080/"
        },
        "id": "GbB6_B88UnLT",
        "outputId": "22a28b12-3c7e-4793-bb46-ae6423f386b4"
      },
      "source": [
        "cancer.keys()"
      ],
      "execution_count": 17,
      "outputs": [
        {
          "output_type": "execute_result",
          "data": {
            "text/plain": [
              "dict_keys(['data', 'target', 'target_names', 'DESCR', 'feature_names', 'filename'])"
            ]
          },
          "metadata": {
            "tags": []
          },
          "execution_count": 17
        }
      ]
    },
    {
      "cell_type": "code",
      "metadata": {
        "colab": {
          "base_uri": "https://localhost:8080/"
        },
        "id": "W39NfhpTWd4k",
        "outputId": "2478dcd5-3689-4e9c-ad87-69cdfa52d147"
      },
      "source": [
        "print(cancer['target_names'])"
      ],
      "execution_count": 18,
      "outputs": [
        {
          "output_type": "stream",
          "text": [
            "['malignant' 'benign']\n"
          ],
          "name": "stdout"
        }
      ]
    },
    {
      "cell_type": "code",
      "metadata": {
        "colab": {
          "base_uri": "https://localhost:8080/"
        },
        "id": "IbFKpSU-CZdc",
        "outputId": "7c77f970-205b-42a0-e810-a8e5fe7b0aca"
      },
      "source": [
        "print(cancer['data'])"
      ],
      "execution_count": 19,
      "outputs": [
        {
          "output_type": "stream",
          "text": [
            "[[1.799e+01 1.038e+01 1.228e+02 ... 2.654e-01 4.601e-01 1.189e-01]\n",
            " [2.057e+01 1.777e+01 1.329e+02 ... 1.860e-01 2.750e-01 8.902e-02]\n",
            " [1.969e+01 2.125e+01 1.300e+02 ... 2.430e-01 3.613e-01 8.758e-02]\n",
            " ...\n",
            " [1.660e+01 2.808e+01 1.083e+02 ... 1.418e-01 2.218e-01 7.820e-02]\n",
            " [2.060e+01 2.933e+01 1.401e+02 ... 2.650e-01 4.087e-01 1.240e-01]\n",
            " [7.760e+00 2.454e+01 4.792e+01 ... 0.000e+00 2.871e-01 7.039e-02]]\n"
          ],
          "name": "stdout"
        }
      ]
    },
    {
      "cell_type": "code",
      "metadata": {
        "colab": {
          "base_uri": "https://localhost:8080/"
        },
        "id": "o6GOcRLdWgNC",
        "outputId": "80bb0d78-1c44-48a6-c0db-0aaad8a9abdd"
      },
      "source": [
        "cancer['feature_names'].shape"
      ],
      "execution_count": 20,
      "outputs": [
        {
          "output_type": "execute_result",
          "data": {
            "text/plain": [
              "(30,)"
            ]
          },
          "metadata": {
            "tags": []
          },
          "execution_count": 20
        }
      ]
    },
    {
      "cell_type": "code",
      "metadata": {
        "id": "5O0Hs3MlEJmC"
      },
      "source": [
        "df_cancer = pd.DataFrame(np.c_[cancer['data'], cancer['target']], columns=np.append(cancer['feature_names'], ['target']))"
      ],
      "execution_count": 21,
      "outputs": []
    },
    {
      "cell_type": "markdown",
      "metadata": {
        "id": "sDIY57cHX82K"
      },
      "source": [
        "Visualizing Data"
      ]
    },
    {
      "cell_type": "code",
      "metadata": {
        "id": "0IN8wuGtXL-p"
      },
      "source": [
        "#sns.pairplot(data)"
      ],
      "execution_count": 22,
      "outputs": []
    },
    {
      "cell_type": "code",
      "metadata": {
        "colab": {
          "base_uri": "https://localhost:8080/",
          "height": 350
        },
        "id": "Xo9-D_pgYKLv",
        "outputId": "37780294-caed-4874-9e94-ac9e1649cf3b"
      },
      "source": [
        "sns.countplot(df_cancer['target'], label=\"Count\")"
      ],
      "execution_count": 23,
      "outputs": [
        {
          "output_type": "stream",
          "text": [
            "/usr/local/lib/python3.7/dist-packages/seaborn/_decorators.py:43: FutureWarning: Pass the following variable as a keyword arg: x. From version 0.12, the only valid positional argument will be `data`, and passing other arguments without an explicit keyword will result in an error or misinterpretation.\n",
            "  FutureWarning\n"
          ],
          "name": "stderr"
        },
        {
          "output_type": "execute_result",
          "data": {
            "text/plain": [
              "<matplotlib.axes._subplots.AxesSubplot at 0x7faef33e0c50>"
            ]
          },
          "metadata": {
            "tags": []
          },
          "execution_count": 23
        },
        {
          "output_type": "display_data",
          "data": {
            "image/png": "[encoded data removed]",
            "text/plain": [
              "<Figure size 432x288 with 1 Axes>"
            ]
          },
          "metadata": {
            "tags": [],
            "needs_background": "light"
          }
        }
      ]
    },
    {
      "cell_type": "code",
      "metadata": {
        "id": "ih9G_Pdg9-Nd",
        "colab": {
          "base_uri": "https://localhost:8080/",
          "height": 296
        },
        "outputId": "aa3f86f2-f55b-4ed7-c2b2-e5fb2296e299"
      },
      "source": [
        "sns.scatterplot(x = 'mean area', y = 'mean smoothness', hue = 'target', data = df_cancer)\n"
      ],
      "execution_count": 24,
      "outputs": [
        {
          "output_type": "execute_result",
          "data": {
            "text/plain": [
              "<matplotlib.axes._subplots.AxesSubplot at 0x7faef3318310>"
            ]
          },
          "metadata": {
            "tags": []
          },
          "execution_count": 24
        },
        {
          "output_type": "display_data",
          "data": {
            "image/png": "[encoded data removed]",
            "text/plain": [
              "<Figure size 432x288 with 1 Axes>"
            ]
          },
          "metadata": {
            "tags": [],
            "needs_background": "light"
          }
        }
      ]
    },
    {
      "cell_type": "code",
      "metadata": {
        "colab": {
          "base_uri": "https://localhost:8080/",
          "height": 721
        },
        "id": "xRgMATB6DEyq",
        "outputId": "f96b4512-3fd0-4319-d1dd-11653b7a9b52"
      },
      "source": [
        "plt.figure(figsize=(20,10)) \n",
        "sns.heatmap(data.corr(), annot=True) "
      ],
      "execution_count": 25,
      "outputs": [
        {
          "output_type": "execute_result",
          "data": {
            "text/plain": [
              "<matplotlib.axes._subplots.AxesSubplot at 0x7faef5c92110>"
            ]
          },
          "metadata": {
            "tags": []
          },
          "execution_count": 25
        },
        {
          "output_type": "display_data",
          "data": {
            "image/png": "[encoded data removed]",
            "text/plain": [
              "<Figure size 1440x720 with 2 Axes>"
            ]
          },
          "metadata": {
            "tags": [],
            "needs_background": "light"
          }
        }
      ]
    },
    {
      "cell_type": "markdown",
      "metadata": {
        "id": "zWJSP599DgwQ"
      },
      "source": [
        "Model Training"
      ]
    },
    {
      "cell_type": "code",
      "metadata": {
        "id": "k_AA0ALmDQ9b"
      },
      "source": [
        "X = df_cancer.drop(['target'], axis=1)"
      ],
      "execution_count": 26,
      "outputs": []
    },
    {
      "cell_type": "code",
      "metadata": {
        "colab": {
          "base_uri": "https://localhost:8080/",
          "height": 257
        },
        "id": "XjVlnOhmDwT8",
        "outputId": "3c40a7c2-6ec6-4ca2-dc32-14bb3ef13d97"
      },
      "source": [
        "X.head()"
      ],
      "execution_count": 27,
      "outputs": [
        {
          "output_type": "execute_result",
          "data": {
            "text/html": [
              "<div>\n",
              "<style scoped>\n",
              "    .dataframe tbody tr th:only-of-type {\n",
              "        vertical-align: middle;\n",
              "    }\n",
              "\n",
              "    .dataframe tbody tr th {\n",
              "        vertical-align: top;\n",
              "    }\n",
              "\n",
              "    .dataframe thead th {\n",
              "        text-align: right;\n",
              "    }\n",
              "</style>\n",
              "<table border=\"1\" class=\"dataframe\">\n",
              "  <thead>\n",
              "    <tr style=\"text-align: right;\">\n",
              "      <th></th>\n",
              "      <th>mean radius</th>\n",
              "      <th>mean texture</th>\n",
              "      <th>mean perimeter</th>\n",
              "      <th>mean area</th>\n",
              "      <th>mean smoothness</th>\n",
              "      <th>mean compactness</th>\n",
              "      <th>mean concavity</th>\n",
              "      <th>mean concave points</th>\n",
              "      <th>mean symmetry</th>\n",
              "      <th>mean fractal dimension</th>\n",
              "      <th>radius error</th>\n",
              "      <th>texture error</th>\n",
              "      <th>perimeter error</th>\n",
              "      <th>area error</th>\n",
              "      <th>smoothness error</th>\n",
              "      <th>compactness error</th>\n",
              "      <th>concavity error</th>\n",
              "      <th>concave points error</th>\n",
              "      <th>symmetry error</th>\n",
              "      <th>fractal dimension error</th>\n",
              "      <th>worst radius</th>\n",
              "      <th>worst texture</th>\n",
              "      <th>worst perimeter</th>\n",
              "      <th>worst area</th>\n",
              "      <th>worst smoothness</th>\n",
              "      <th>worst compactness</th>\n",
              "      <th>worst concavity</th>\n",
              "      <th>worst concave points</th>\n",
              "      <th>worst symmetry</th>\n",
              "      <th>worst fractal dimension</th>\n",
              "    </tr>\n",
              "  </thead>\n",
              "  <tbody>\n",
              "    <tr>\n",
              "      <th>0</th>\n",
              "      <td>17.99</td>\n",
              "      <td>10.38</td>\n",
              "      <td>122.80</td>\n",
              "      <td>1001.0</td>\n",
              "      <td>0.11840</td>\n",
              "      <td>0.27760</td>\n",
              "      <td>0.3001</td>\n",
              "      <td>0.14710</td>\n",
              "      <td>0.2419</td>\n",
              "      <td>0.07871</td>\n",
              "      <td>1.0950</td>\n",
              "      <td>0.9053</td>\n",
              "      <td>8.589</td>\n",
              "      <td>153.40</td>\n",
              "      <td>0.006399</td>\n",
              "      <td>0.04904</td>\n",
              "      <td>0.05373</td>\n",
              "      <td>0.01587</td>\n",
              "      <td>0.03003</td>\n",
              "      <td>0.006193</td>\n",
              "      <td>25.38</td>\n",
              "      <td>17.33</td>\n",
              "      <td>184.60</td>\n",
              "      <td>2019.0</td>\n",
              "      <td>0.1622</td>\n",
              "      <td>0.6656</td>\n",
              "      <td>0.7119</td>\n",
              "      <td>0.2654</td>\n",
              "      <td>0.4601</td>\n",
              "      <td>0.11890</td>\n",
              "    </tr>\n",
              "    <tr>\n",
              "      <th>1</th>\n",
              "      <td>20.57</td>\n",
              "      <td>17.77</td>\n",
              "      <td>132.90</td>\n",
              "      <td>1326.0</td>\n",
              "      <td>0.08474</td>\n",
              "      <td>0.07864</td>\n",
              "      <td>0.0869</td>\n",
              "      <td>0.07017</td>\n",
              "      <td>0.1812</td>\n",
              "      <td>0.05667</td>\n",
              "      <td>0.5435</td>\n",
              "      <td>0.7339</td>\n",
              "      <td>3.398</td>\n",
              "      <td>74.08</td>\n",
              "      <td>0.005225</td>\n",
              "      <td>0.01308</td>\n",
              "      <td>0.01860</td>\n",
              "      <td>0.01340</td>\n",
              "      <td>0.01389</td>\n",
              "      <td>0.003532</td>\n",
              "      <td>24.99</td>\n",
              "      <td>23.41</td>\n",
              "      <td>158.80</td>\n",
              "      <td>1956.0</td>\n",
              "      <td>0.1238</td>\n",
              "      <td>0.1866</td>\n",
              "      <td>0.2416</td>\n",
              "      <td>0.1860</td>\n",
              "      <td>0.2750</td>\n",
              "      <td>0.08902</td>\n",
              "    </tr>\n",
              "    <tr>\n",
              "      <th>2</th>\n",
              "      <td>19.69</td>\n",
              "      <td>21.25</td>\n",
              "      <td>130.00</td>\n",
              "      <td>1203.0</td>\n",
              "      <td>0.10960</td>\n",
              "      <td>0.15990</td>\n",
              "      <td>0.1974</td>\n",
              "      <td>0.12790</td>\n",
              "      <td>0.2069</td>\n",
              "      <td>0.05999</td>\n",
              "      <td>0.7456</td>\n",
              "      <td>0.7869</td>\n",
              "      <td>4.585</td>\n",
              "      <td>94.03</td>\n",
              "      <td>0.006150</td>\n",
              "      <td>0.04006</td>\n",
              "      <td>0.03832</td>\n",
              "      <td>0.02058</td>\n",
              "      <td>0.02250</td>\n",
              "      <td>0.004571</td>\n",
              "      <td>23.57</td>\n",
              "      <td>25.53</td>\n",
              "      <td>152.50</td>\n",
              "      <td>1709.0</td>\n",
              "      <td>0.1444</td>\n",
              "      <td>0.4245</td>\n",
              "      <td>0.4504</td>\n",
              "      <td>0.2430</td>\n",
              "      <td>0.3613</td>\n",
              "      <td>0.08758</td>\n",
              "    </tr>\n",
              "    <tr>\n",
              "      <th>3</th>\n",
              "      <td>11.42</td>\n",
              "      <td>20.38</td>\n",
              "      <td>77.58</td>\n",
              "      <td>386.1</td>\n",
              "      <td>0.14250</td>\n",
              "      <td>0.28390</td>\n",
              "      <td>0.2414</td>\n",
              "      <td>0.10520</td>\n",
              "      <td>0.2597</td>\n",
              "      <td>0.09744</td>\n",
              "      <td>0.4956</td>\n",
              "      <td>1.1560</td>\n",
              "      <td>3.445</td>\n",
              "      <td>27.23</td>\n",
              "      <td>0.009110</td>\n",
              "      <td>0.07458</td>\n",
              "      <td>0.05661</td>\n",
              "      <td>0.01867</td>\n",
              "      <td>0.05963</td>\n",
              "      <td>0.009208</td>\n",
              "      <td>14.91</td>\n",
              "      <td>26.50</td>\n",
              "      <td>98.87</td>\n",
              "      <td>567.7</td>\n",
              "      <td>0.2098</td>\n",
              "      <td>0.8663</td>\n",
              "      <td>0.6869</td>\n",
              "      <td>0.2575</td>\n",
              "      <td>0.6638</td>\n",
              "      <td>0.17300</td>\n",
              "    </tr>\n",
              "    <tr>\n",
              "      <th>4</th>\n",
              "      <td>20.29</td>\n",
              "      <td>14.34</td>\n",
              "      <td>135.10</td>\n",
              "      <td>1297.0</td>\n",
              "      <td>0.10030</td>\n",
              "      <td>0.13280</td>\n",
              "      <td>0.1980</td>\n",
              "      <td>0.10430</td>\n",
              "      <td>0.1809</td>\n",
              "      <td>0.05883</td>\n",
              "      <td>0.7572</td>\n",
              "      <td>0.7813</td>\n",
              "      <td>5.438</td>\n",
              "      <td>94.44</td>\n",
              "      <td>0.011490</td>\n",
              "      <td>0.02461</td>\n",
              "      <td>0.05688</td>\n",
              "      <td>0.01885</td>\n",
              "      <td>0.01756</td>\n",
              "      <td>0.005115</td>\n",
              "      <td>22.54</td>\n",
              "      <td>16.67</td>\n",
              "      <td>152.20</td>\n",
              "      <td>1575.0</td>\n",
              "      <td>0.1374</td>\n",
              "      <td>0.2050</td>\n",
              "      <td>0.4000</td>\n",
              "      <td>0.1625</td>\n",
              "      <td>0.2364</td>\n",
              "      <td>0.07678</td>\n",
              "    </tr>\n",
              "  </tbody>\n",
              "</table>\n",
              "</div>"
            ],
            "text/plain": [
              "   mean radius  mean texture  ...  worst symmetry  worst fractal dimension\n",
              "0        17.99         10.38  ...          0.4601                  0.11890\n",
              "1        20.57         17.77  ...          0.2750                  0.08902\n",
              "2        19.69         21.25  ...          0.3613                  0.08758\n",
              "3        11.42         20.38  ...          0.6638                  0.17300\n",
              "4        20.29         14.34  ...          0.2364                  0.07678\n",
              "\n",
              "[5 rows x 30 columns]"
            ]
          },
          "metadata": {
            "tags": []
          },
          "execution_count": 27
        }
      ]
    },
    {
      "cell_type": "code",
      "metadata": {
        "colab": {
          "base_uri": "https://localhost:8080/"
        },
        "id": "H69h0EyxFTYE",
        "outputId": "a5287f28-9a95-42d0-ef82-e1c077bae9b2"
      },
      "source": [
        "X.shape"
      ],
      "execution_count": 28,
      "outputs": [
        {
          "output_type": "execute_result",
          "data": {
            "text/plain": [
              "(569, 30)"
            ]
          },
          "metadata": {
            "tags": []
          },
          "execution_count": 28
        }
      ]
    },
    {
      "cell_type": "code",
      "metadata": {
        "id": "nRQXqMU1FXkN"
      },
      "source": [
        "Y = df_cancer['target']"
      ],
      "execution_count": 29,
      "outputs": []
    },
    {
      "cell_type": "code",
      "metadata": {
        "colab": {
          "base_uri": "https://localhost:8080/"
        },
        "id": "5xFNyLhgFm9u",
        "outputId": "ed25730e-54d6-46f8-cf73-934e758404b0"
      },
      "source": [
        "Y.shape"
      ],
      "execution_count": 30,
      "outputs": [
        {
          "output_type": "execute_result",
          "data": {
            "text/plain": [
              "(569,)"
            ]
          },
          "metadata": {
            "tags": []
          },
          "execution_count": 30
        }
      ]
    },
    {
      "cell_type": "code",
      "metadata": {
        "id": "ksEesteJF-uW"
      },
      "source": [
        "from sklearn.model_selection import train_test_split\n",
        "x_train, x_test, y_train, y_test = train_test_split(X,Y, test_size=0.2, random_state=5)"
      ],
      "execution_count": 31,
      "outputs": []
    },
    {
      "cell_type": "code",
      "metadata": {
        "colab": {
          "base_uri": "https://localhost:8080/"
        },
        "id": "hOPW4LV2GSOf",
        "outputId": "ebfe61c9-f1c7-4591-b2d0-4fa77c0d55ca"
      },
      "source": [
        "x_train.shape, y_train.shape"
      ],
      "execution_count": 32,
      "outputs": [
        {
          "output_type": "execute_result",
          "data": {
            "text/plain": [
              "((455, 30), (455,))"
            ]
          },
          "metadata": {
            "tags": []
          },
          "execution_count": 32
        }
      ]
    },
    {
      "cell_type": "code",
      "metadata": {
        "colab": {
          "base_uri": "https://localhost:8080/"
        },
        "id": "-HsT4g1OGXyD",
        "outputId": "214af096-f073-4d30-b86c-60efaadae193"
      },
      "source": [
        "x_test.shape, y_test.shape"
      ],
      "execution_count": 33,
      "outputs": [
        {
          "output_type": "execute_result",
          "data": {
            "text/plain": [
              "((114, 30), (114,))"
            ]
          },
          "metadata": {
            "tags": []
          },
          "execution_count": 33
        }
      ]
    },
    {
      "cell_type": "code",
      "metadata": {
        "id": "f4G8sjJWGbYR"
      },
      "source": [
        "from sklearn.svm import SVC\n",
        "from sklearn.metrics import classification_report, confusion_matrix"
      ],
      "execution_count": 34,
      "outputs": []
    },
    {
      "cell_type": "code",
      "metadata": {
        "colab": {
          "base_uri": "https://localhost:8080/"
        },
        "id": "9wZE9kqwGptK",
        "outputId": "25e2687a-cdde-4673-854a-000dc847cda6"
      },
      "source": [
        "svc_model = SVC()\n",
        "svc_model.fit(x_train, y_train)"
      ],
      "execution_count": 35,
      "outputs": [
        {
          "output_type": "execute_result",
          "data": {
            "text/plain": [
              "SVC(C=1.0, break_ties=False, cache_size=200, class_weight=None, coef0=0.0,\n",
              "    decision_function_shape='ovr', degree=3, gamma='scale', kernel='rbf',\n",
              "    max_iter=-1, probability=False, random_state=None, shrinking=True,\n",
              "    tol=0.001, verbose=False)"
            ]
          },
          "metadata": {
            "tags": []
          },
          "execution_count": 35
        }
      ]
    },
    {
      "cell_type": "markdown",
      "metadata": {
        "id": "twFyULUQHjG5"
      },
      "source": [
        "Evaluating model"
      ]
    },
    {
      "cell_type": "code",
      "metadata": {
        "id": "jz-Rw7k4GzL5"
      },
      "source": [
        "y_pred = svc_model.predict(x_test)"
      ],
      "execution_count": 42,
      "outputs": []
    },
    {
      "cell_type": "code",
      "metadata": {
        "colab": {
          "base_uri": "https://localhost:8080/"
        },
        "id": "gaDcQ97VHL6Q",
        "outputId": "9552e148-cd58-4fd4-c1cd-dff916a1c1ab"
      },
      "source": [
        "svc_model.score(x_train, y_train)"
      ],
      "execution_count": 43,
      "outputs": [
        {
          "output_type": "execute_result",
          "data": {
            "text/plain": [
              "0.9164835164835164"
            ]
          },
          "metadata": {
            "tags": []
          },
          "execution_count": 43
        }
      ]
    },
    {
      "cell_type": "code",
      "metadata": {
        "colab": {
          "base_uri": "https://localhost:8080/"
        },
        "id": "T4TJvjIJHP-9",
        "outputId": "ed8ccb21-26fa-4510-c477-d482ce59b3af"
      },
      "source": [
        "svc_model.score(x_test, y_test)"
      ],
      "execution_count": 44,
      "outputs": [
        {
          "output_type": "execute_result",
          "data": {
            "text/plain": [
              "0.9385964912280702"
            ]
          },
          "metadata": {
            "tags": []
          },
          "execution_count": 44
        }
      ]
    },
    {
      "cell_type": "code",
      "metadata": {
        "id": "SOM3QLcoHV3L"
      },
      "source": [
        "cm = confusion_matrix(y_test, y_pred)"
      ],
      "execution_count": 45,
      "outputs": []
    },
    {
      "cell_type": "code",
      "metadata": {
        "colab": {
          "base_uri": "https://localhost:8080/",
          "height": 282
        },
        "id": "XNfVkqMKHw6T",
        "outputId": "b2fc968f-4698-423f-e6f8-ed35ba0fbb79"
      },
      "source": [
        "sns.heatmap(cm, annot=True)"
      ],
      "execution_count": 46,
      "outputs": [
        {
          "output_type": "execute_result",
          "data": {
            "text/plain": [
              "<matplotlib.axes._subplots.AxesSubplot at 0x7faee52f0f90>"
            ]
          },
          "metadata": {
            "tags": []
          },
          "execution_count": 46
        },
        {
          "output_type": "display_data",
          "data": {
            "image/png": "[encoded data removed]",
            "text/plain": [
              "<Figure size 432x288 with 2 Axes>"
            ]
          },
          "metadata": {
            "tags": [],
            "needs_background": "light"
          }
        }
      ]
    },
    {
      "cell_type": "code",
      "metadata": {
        "colab": {
          "base_uri": "https://localhost:8080/"
        },
        "id": "5HppKPefH5Tt",
        "outputId": "f5ccb845-c09a-40a8-f83f-3a78d20647bc"
      },
      "source": [
        "print(classification_report(y_test, y_pred))"
      ],
      "execution_count": 47,
      "outputs": [
        {
          "output_type": "stream",
          "text": [
            "              precision    recall  f1-score   support\n",
            "\n",
            "         0.0       1.00      0.85      0.92        48\n",
            "         1.0       0.90      1.00      0.95        66\n",
            "\n",
            "    accuracy                           0.94       114\n",
            "   macro avg       0.95      0.93      0.94       114\n",
            "weighted avg       0.94      0.94      0.94       114\n",
            "\n"
          ],
          "name": "stdout"
        }
      ]
    },
    {
      "cell_type": "markdown",
      "metadata": {
        "id": "VUo2okZFIiru"
      },
      "source": [
        "Improving the Model"
      ]
    },
    {
      "cell_type": "code",
      "metadata": {
        "id": "qc0RDC7kIUGK"
      },
      "source": [
        "min_train = x_train.min()"
      ],
      "execution_count": 48,
      "outputs": []
    },
    {
      "cell_type": "code",
      "metadata": {
        "colab": {
          "base_uri": "https://localhost:8080/"
        },
        "id": "elcOb0jXIuU8",
        "outputId": "2714da81-1695-4d59-d6e4-214f9c2cf982"
      },
      "source": [
        "min_train"
      ],
      "execution_count": 49,
      "outputs": [
        {
          "output_type": "execute_result",
          "data": {
            "text/plain": [
              "mean radius                  6.981000\n",
              "mean texture                 9.710000\n",
              "mean perimeter              43.790000\n",
              "mean area                  143.500000\n",
              "mean smoothness              0.052630\n",
              "mean compactness             0.019380\n",
              "mean concavity               0.000000\n",
              "mean concave points          0.000000\n",
              "mean symmetry                0.106000\n",
              "mean fractal dimension       0.049960\n",
              "radius error                 0.111500\n",
              "texture error                0.362100\n",
              "perimeter error              0.757000\n",
              "area error                   6.802000\n",
              "smoothness error             0.001713\n",
              "compactness error            0.002252\n",
              "concavity error              0.000000\n",
              "concave points error         0.000000\n",
              "symmetry error               0.007882\n",
              "fractal dimension error      0.000950\n",
              "worst radius                 7.930000\n",
              "worst texture               12.020000\n",
              "worst perimeter             50.410000\n",
              "worst area                 185.200000\n",
              "worst smoothness             0.071170\n",
              "worst compactness            0.027290\n",
              "worst concavity              0.000000\n",
              "worst concave points         0.000000\n",
              "worst symmetry               0.156500\n",
              "worst fractal dimension      0.055040\n",
              "dtype: float64"
            ]
          },
          "metadata": {
            "tags": []
          },
          "execution_count": 49
        }
      ]
    },
    {
      "cell_type": "code",
      "metadata": {
        "id": "62aLlLS5IxE_"
      },
      "source": [
        "range_train = (x_train-min_train).max()"
      ],
      "execution_count": 50,
      "outputs": []
    },
    {
      "cell_type": "code",
      "metadata": {
        "colab": {
          "base_uri": "https://localhost:8080/"
        },
        "id": "zgClTuJ2I9Jg",
        "outputId": "3e1b7cf9-6505-4cc7-83d9-b16822535115"
      },
      "source": [
        "range_train"
      ],
      "execution_count": 51,
      "outputs": [
        {
          "output_type": "execute_result",
          "data": {
            "text/plain": [
              "mean radius                  21.129000\n",
              "mean texture                 29.570000\n",
              "mean perimeter              144.710000\n",
              "mean area                  2355.500000\n",
              "mean smoothness               0.110770\n",
              "mean compactness              0.326020\n",
              "mean concavity                0.426800\n",
              "mean concave points           0.201200\n",
              "mean symmetry                 0.198000\n",
              "mean fractal dimension        0.045790\n",
              "radius error                  2.761500\n",
              "texture error                 4.522900\n",
              "perimeter error              21.223000\n",
              "area error                  518.798000\n",
              "smoothness error              0.029417\n",
              "compactness error             0.133148\n",
              "concavity error               0.396000\n",
              "concave points error          0.052790\n",
              "symmetry error                0.071068\n",
              "fractal dimension error       0.028890\n",
              "worst radius                 25.190000\n",
              "worst texture                37.520000\n",
              "worst perimeter             170.390000\n",
              "worst area                 3246.800000\n",
              "worst smoothness              0.129430\n",
              "worst compactness             1.030710\n",
              "worst concavity               1.105000\n",
              "worst concave points          0.291000\n",
              "worst symmetry                0.420900\n",
              "worst fractal dimension       0.152460\n",
              "dtype: float64"
            ]
          },
          "metadata": {
            "tags": []
          },
          "execution_count": 51
        }
      ]
    },
    {
      "cell_type": "code",
      "metadata": {
        "id": "79J0sQnZI-nJ"
      },
      "source": [
        "x_train_scaled = (x_train-min_train)/range_train"
      ],
      "execution_count": 52,
      "outputs": []
    },
    {
      "cell_type": "code",
      "metadata": {
        "colab": {
          "base_uri": "https://localhost:8080/",
          "height": 470
        },
        "id": "UPMwgnjwJGsb",
        "outputId": "e00a0844-34bb-46e0-da6e-fd03025ffb0a"
      },
      "source": [
        "x_train_scaled"
      ],
      "execution_count": 53,
      "outputs": [
        {
          "output_type": "execute_result",
          "data": {
            "text/html": [
              "<div>\n",
              "<style scoped>\n",
              "    .dataframe tbody tr th:only-of-type {\n",
              "        vertical-align: middle;\n",
              "    }\n",
              "\n",
              "    .dataframe tbody tr th {\n",
              "        vertical-align: top;\n",
              "    }\n",
              "\n",
              "    .dataframe thead th {\n",
              "        text-align: right;\n",
              "    }\n",
              "</style>\n",
              "<table border=\"1\" class=\"dataframe\">\n",
              "  <thead>\n",
              "    <tr style=\"text-align: right;\">\n",
              "      <th></th>\n",
              "      <th>mean radius</th>\n",
              "      <th>mean texture</th>\n",
              "      <th>mean perimeter</th>\n",
              "      <th>mean area</th>\n",
              "      <th>mean smoothness</th>\n",
              "      <th>mean compactness</th>\n",
              "      <th>mean concavity</th>\n",
              "      <th>mean concave points</th>\n",
              "      <th>mean symmetry</th>\n",
              "      <th>mean fractal dimension</th>\n",
              "      <th>radius error</th>\n",
              "      <th>texture error</th>\n",
              "      <th>perimeter error</th>\n",
              "      <th>area error</th>\n",
              "      <th>smoothness error</th>\n",
              "      <th>compactness error</th>\n",
              "      <th>concavity error</th>\n",
              "      <th>concave points error</th>\n",
              "      <th>symmetry error</th>\n",
              "      <th>fractal dimension error</th>\n",
              "      <th>worst radius</th>\n",
              "      <th>worst texture</th>\n",
              "      <th>worst perimeter</th>\n",
              "      <th>worst area</th>\n",
              "      <th>worst smoothness</th>\n",
              "      <th>worst compactness</th>\n",
              "      <th>worst concavity</th>\n",
              "      <th>worst concave points</th>\n",
              "      <th>worst symmetry</th>\n",
              "      <th>worst fractal dimension</th>\n",
              "    </tr>\n",
              "  </thead>\n",
              "  <tbody>\n",
              "    <tr>\n",
              "      <th>306</th>\n",
              "      <td>0.294335</td>\n",
              "      <td>0.206628</td>\n",
              "      <td>0.278350</td>\n",
              "      <td>0.167183</td>\n",
              "      <td>0.293220</td>\n",
              "      <td>0.101620</td>\n",
              "      <td>0.003423</td>\n",
              "      <td>0.016208</td>\n",
              "      <td>0.288889</td>\n",
              "      <td>0.196113</td>\n",
              "      <td>0.028535</td>\n",
              "      <td>0.046740</td>\n",
              "      <td>0.021062</td>\n",
              "      <td>0.016766</td>\n",
              "      <td>0.065234</td>\n",
              "      <td>0.042126</td>\n",
              "      <td>0.002848</td>\n",
              "      <td>0.045198</td>\n",
              "      <td>0.078207</td>\n",
              "      <td>0.056587</td>\n",
              "      <td>0.257245</td>\n",
              "      <td>0.224680</td>\n",
              "      <td>0.244087</td>\n",
              "      <td>0.139122</td>\n",
              "      <td>0.321641</td>\n",
              "      <td>0.104113</td>\n",
              "      <td>0.010136</td>\n",
              "      <td>0.085911</td>\n",
              "      <td>0.258019</td>\n",
              "      <td>0.188968</td>\n",
              "    </tr>\n",
              "    <tr>\n",
              "      <th>410</th>\n",
              "      <td>0.207251</td>\n",
              "      <td>0.265810</td>\n",
              "      <td>0.198328</td>\n",
              "      <td>0.108809</td>\n",
              "      <td>0.324546</td>\n",
              "      <td>0.103521</td>\n",
              "      <td>0.065206</td>\n",
              "      <td>0.104374</td>\n",
              "      <td>0.273232</td>\n",
              "      <td>0.200262</td>\n",
              "      <td>0.029006</td>\n",
              "      <td>0.263747</td>\n",
              "      <td>0.028365</td>\n",
              "      <td>0.013219</td>\n",
              "      <td>0.125030</td>\n",
              "      <td>0.057793</td>\n",
              "      <td>0.029369</td>\n",
              "      <td>0.111233</td>\n",
              "      <td>0.077785</td>\n",
              "      <td>0.024535</td>\n",
              "      <td>0.203255</td>\n",
              "      <td>0.647655</td>\n",
              "      <td>0.203416</td>\n",
              "      <td>0.103517</td>\n",
              "      <td>0.572742</td>\n",
              "      <td>0.130890</td>\n",
              "      <td>0.163891</td>\n",
              "      <td>0.298900</td>\n",
              "      <td>0.334521</td>\n",
              "      <td>0.146989</td>\n",
              "    </tr>\n",
              "    <tr>\n",
              "      <th>197</th>\n",
              "      <td>0.525297</td>\n",
              "      <td>0.410213</td>\n",
              "      <td>0.508673</td>\n",
              "      <td>0.373806</td>\n",
              "      <td>0.190304</td>\n",
              "      <td>0.205632</td>\n",
              "      <td>0.258435</td>\n",
              "      <td>0.287177</td>\n",
              "      <td>0.358586</td>\n",
              "      <td>0.075126</td>\n",
              "      <td>0.190005</td>\n",
              "      <td>0.208472</td>\n",
              "      <td>0.167507</td>\n",
              "      <td>0.134075</td>\n",
              "      <td>0.129755</td>\n",
              "      <td>0.380839</td>\n",
              "      <td>0.154293</td>\n",
              "      <td>0.273537</td>\n",
              "      <td>0.190212</td>\n",
              "      <td>0.141427</td>\n",
              "      <td>0.469631</td>\n",
              "      <td>0.337953</td>\n",
              "      <td>0.461823</td>\n",
              "      <td>0.321178</td>\n",
              "      <td>0.131731</td>\n",
              "      <td>0.163974</td>\n",
              "      <td>0.229412</td>\n",
              "      <td>0.315498</td>\n",
              "      <td>0.191019</td>\n",
              "      <td>0.069133</td>\n",
              "    </tr>\n",
              "    <tr>\n",
              "      <th>376</th>\n",
              "      <td>0.169861</td>\n",
              "      <td>0.355428</td>\n",
              "      <td>0.182157</td>\n",
              "      <td>0.082700</td>\n",
              "      <td>0.343956</td>\n",
              "      <td>0.449727</td>\n",
              "      <td>0.534208</td>\n",
              "      <td>0.295278</td>\n",
              "      <td>0.569697</td>\n",
              "      <td>0.754313</td>\n",
              "      <td>0.000000</td>\n",
              "      <td>0.192111</td>\n",
              "      <td>0.075673</td>\n",
              "      <td>0.000821</td>\n",
              "      <td>0.230683</td>\n",
              "      <td>0.557109</td>\n",
              "      <td>0.387626</td>\n",
              "      <td>0.552946</td>\n",
              "      <td>0.116621</td>\n",
              "      <td>0.389404</td>\n",
              "      <td>0.115919</td>\n",
              "      <td>0.287846</td>\n",
              "      <td>0.153178</td>\n",
              "      <td>0.051343</td>\n",
              "      <td>0.333230</td>\n",
              "      <td>0.324640</td>\n",
              "      <td>0.545701</td>\n",
              "      <td>0.503436</td>\n",
              "      <td>0.245189</td>\n",
              "      <td>0.426079</td>\n",
              "    </tr>\n",
              "    <tr>\n",
              "      <th>244</th>\n",
              "      <td>0.587770</td>\n",
              "      <td>0.466351</td>\n",
              "      <td>0.589524</td>\n",
              "      <td>0.429421</td>\n",
              "      <td>0.452018</td>\n",
              "      <td>0.418441</td>\n",
              "      <td>0.480084</td>\n",
              "      <td>0.441650</td>\n",
              "      <td>0.463636</td>\n",
              "      <td>0.219262</td>\n",
              "      <td>0.149484</td>\n",
              "      <td>0.318358</td>\n",
              "      <td>0.154549</td>\n",
              "      <td>0.103331</td>\n",
              "      <td>0.302444</td>\n",
              "      <td>0.227326</td>\n",
              "      <td>0.098864</td>\n",
              "      <td>0.295321</td>\n",
              "      <td>0.196685</td>\n",
              "      <td>0.103801</td>\n",
              "      <td>0.544661</td>\n",
              "      <td>0.493337</td>\n",
              "      <td>0.554551</td>\n",
              "      <td>0.379389</td>\n",
              "      <td>0.580468</td>\n",
              "      <td>0.261480</td>\n",
              "      <td>0.312941</td>\n",
              "      <td>0.537457</td>\n",
              "      <td>0.321929</td>\n",
              "      <td>0.138397</td>\n",
              "    </tr>\n",
              "    <tr>\n",
              "      <th>...</th>\n",
              "      <td>...</td>\n",
              "      <td>...</td>\n",
              "      <td>...</td>\n",
              "      <td>...</td>\n",
              "      <td>...</td>\n",
              "      <td>...</td>\n",
              "      <td>...</td>\n",
              "      <td>...</td>\n",
              "      <td>...</td>\n",
              "      <td>...</td>\n",
              "      <td>...</td>\n",
              "      <td>...</td>\n",
              "      <td>...</td>\n",
              "      <td>...</td>\n",
              "      <td>...</td>\n",
              "      <td>...</td>\n",
              "      <td>...</td>\n",
              "      <td>...</td>\n",
              "      <td>...</td>\n",
              "      <td>...</td>\n",
              "      <td>...</td>\n",
              "      <td>...</td>\n",
              "      <td>...</td>\n",
              "      <td>...</td>\n",
              "      <td>...</td>\n",
              "      <td>...</td>\n",
              "      <td>...</td>\n",
              "      <td>...</td>\n",
              "      <td>...</td>\n",
              "      <td>...</td>\n",
              "    </tr>\n",
              "    <tr>\n",
              "      <th>8</th>\n",
              "      <td>0.284869</td>\n",
              "      <td>0.409537</td>\n",
              "      <td>0.302052</td>\n",
              "      <td>0.159754</td>\n",
              "      <td>0.674099</td>\n",
              "      <td>0.533157</td>\n",
              "      <td>0.435567</td>\n",
              "      <td>0.464861</td>\n",
              "      <td>0.651515</td>\n",
              "      <td>0.522603</td>\n",
              "      <td>0.070541</td>\n",
              "      <td>0.141480</td>\n",
              "      <td>0.077699</td>\n",
              "      <td>0.033767</td>\n",
              "      <td>0.136588</td>\n",
              "      <td>0.246102</td>\n",
              "      <td>0.089722</td>\n",
              "      <td>0.232241</td>\n",
              "      <td>0.190634</td>\n",
              "      <td>0.096878</td>\n",
              "      <td>0.300119</td>\n",
              "      <td>0.498667</td>\n",
              "      <td>0.327425</td>\n",
              "      <td>0.170660</td>\n",
              "      <td>0.765897</td>\n",
              "      <td>0.497531</td>\n",
              "      <td>0.487783</td>\n",
              "      <td>0.707904</td>\n",
              "      <td>0.668330</td>\n",
              "      <td>0.342123</td>\n",
              "    </tr>\n",
              "    <tr>\n",
              "      <th>73</th>\n",
              "      <td>0.322732</td>\n",
              "      <td>0.205614</td>\n",
              "      <td>0.322300</td>\n",
              "      <td>0.187052</td>\n",
              "      <td>0.433962</td>\n",
              "      <td>0.333170</td>\n",
              "      <td>0.182498</td>\n",
              "      <td>0.251938</td>\n",
              "      <td>0.304040</td>\n",
              "      <td>0.342870</td>\n",
              "      <td>0.060547</td>\n",
              "      <td>0.057131</td>\n",
              "      <td>0.056542</td>\n",
              "      <td>0.031897</td>\n",
              "      <td>0.102118</td>\n",
              "      <td>0.138177</td>\n",
              "      <td>0.044419</td>\n",
              "      <td>0.174389</td>\n",
              "      <td>0.060759</td>\n",
              "      <td>0.075452</td>\n",
              "      <td>0.342993</td>\n",
              "      <td>0.235608</td>\n",
              "      <td>0.351488</td>\n",
              "      <td>0.193175</td>\n",
              "      <td>0.540292</td>\n",
              "      <td>0.317170</td>\n",
              "      <td>0.251493</td>\n",
              "      <td>0.475258</td>\n",
              "      <td>0.243288</td>\n",
              "      <td>0.314574</td>\n",
              "    </tr>\n",
              "    <tr>\n",
              "      <th>400</th>\n",
              "      <td>0.517251</td>\n",
              "      <td>0.382482</td>\n",
              "      <td>0.557045</td>\n",
              "      <td>0.361070</td>\n",
              "      <td>0.635280</td>\n",
              "      <td>0.730691</td>\n",
              "      <td>0.747188</td>\n",
              "      <td>0.595427</td>\n",
              "      <td>0.531818</td>\n",
              "      <td>0.462765</td>\n",
              "      <td>0.105559</td>\n",
              "      <td>0.091225</td>\n",
              "      <td>0.111483</td>\n",
              "      <td>0.066901</td>\n",
              "      <td>0.185131</td>\n",
              "      <td>0.262325</td>\n",
              "      <td>0.155682</td>\n",
              "      <td>0.199091</td>\n",
              "      <td>0.112962</td>\n",
              "      <td>0.143608</td>\n",
              "      <td>0.510917</td>\n",
              "      <td>0.420043</td>\n",
              "      <td>0.582135</td>\n",
              "      <td>0.344585</td>\n",
              "      <td>0.897242</td>\n",
              "      <td>0.547593</td>\n",
              "      <td>0.817557</td>\n",
              "      <td>0.674914</td>\n",
              "      <td>0.399145</td>\n",
              "      <td>0.424767</td>\n",
              "    </tr>\n",
              "    <tr>\n",
              "      <th>118</th>\n",
              "      <td>0.416442</td>\n",
              "      <td>0.446398</td>\n",
              "      <td>0.427821</td>\n",
              "      <td>0.271322</td>\n",
              "      <td>0.567572</td>\n",
              "      <td>0.477946</td>\n",
              "      <td>0.499766</td>\n",
              "      <td>0.471123</td>\n",
              "      <td>0.523232</td>\n",
              "      <td>0.509937</td>\n",
              "      <td>0.159515</td>\n",
              "      <td>0.156957</td>\n",
              "      <td>0.133864</td>\n",
              "      <td>0.099900</td>\n",
              "      <td>0.237482</td>\n",
              "      <td>0.281702</td>\n",
              "      <td>0.150253</td>\n",
              "      <td>0.263307</td>\n",
              "      <td>0.099454</td>\n",
              "      <td>0.174241</td>\n",
              "      <td>0.486701</td>\n",
              "      <td>0.492537</td>\n",
              "      <td>0.468866</td>\n",
              "      <td>0.334730</td>\n",
              "      <td>0.883335</td>\n",
              "      <td>0.451349</td>\n",
              "      <td>0.665701</td>\n",
              "      <td>0.698969</td>\n",
              "      <td>0.406035</td>\n",
              "      <td>0.460186</td>\n",
              "    </tr>\n",
              "    <tr>\n",
              "      <th>206</th>\n",
              "      <td>0.137015</td>\n",
              "      <td>0.255665</td>\n",
              "      <td>0.132195</td>\n",
              "      <td>0.064487</td>\n",
              "      <td>0.507990</td>\n",
              "      <td>0.162383</td>\n",
              "      <td>0.041143</td>\n",
              "      <td>0.097018</td>\n",
              "      <td>0.441414</td>\n",
              "      <td>0.281503</td>\n",
              "      <td>0.037009</td>\n",
              "      <td>0.216653</td>\n",
              "      <td>0.035810</td>\n",
              "      <td>0.010655</td>\n",
              "      <td>0.272156</td>\n",
              "      <td>0.076892</td>\n",
              "      <td>0.020139</td>\n",
              "      <td>0.142584</td>\n",
              "      <td>0.200062</td>\n",
              "      <td>0.052676</td>\n",
              "      <td>0.098849</td>\n",
              "      <td>0.298507</td>\n",
              "      <td>0.097834</td>\n",
              "      <td>0.045091</td>\n",
              "      <td>0.543383</td>\n",
              "      <td>0.094508</td>\n",
              "      <td>0.056226</td>\n",
              "      <td>0.192027</td>\n",
              "      <td>0.338323</td>\n",
              "      <td>0.123049</td>\n",
              "    </tr>\n",
              "  </tbody>\n",
              "</table>\n",
              "<p>455 rows × 30 columns</p>\n",
              "</div>"
            ],
            "text/plain": [
              "     mean radius  mean texture  ...  worst symmetry  worst fractal dimension\n",
              "306     0.294335      0.206628  ...        0.258019                 0.188968\n",
              "410     0.207251      0.265810  ...        0.334521                 0.146989\n",
              "197     0.525297      0.410213  ...        0.191019                 0.069133\n",
              "376     0.169861      0.355428  ...        0.245189                 0.426079\n",
              "244     0.587770      0.466351  ...        0.321929                 0.138397\n",
              "..           ...           ...  ...             ...                      ...\n",
              "8       0.284869      0.409537  ...        0.668330                 0.342123\n",
              "73      0.322732      0.205614  ...        0.243288                 0.314574\n",
              "400     0.517251      0.382482  ...        0.399145                 0.424767\n",
              "118     0.416442      0.446398  ...        0.406035                 0.460186\n",
              "206     0.137015      0.255665  ...        0.338323                 0.123049\n",
              "\n",
              "[455 rows x 30 columns]"
            ]
          },
          "metadata": {
            "tags": []
          },
          "execution_count": 53
        }
      ]
    },
    {
      "cell_type": "code",
      "metadata": {
        "colab": {
          "base_uri": "https://localhost:8080/",
          "height": 296
        },
        "id": "fe-RHEn9JITL",
        "outputId": "7812815e-9814-407a-8628-4056e04f954a"
      },
      "source": [
        "sns.scatterplot(x = x_train['mean area'], y = x_train['mean smoothness'], hue = y_train)"
      ],
      "execution_count": 56,
      "outputs": [
        {
          "output_type": "execute_result",
          "data": {
            "text/plain": [
              "<matplotlib.axes._subplots.AxesSubplot at 0x7faee6b49a90>"
            ]
          },
          "metadata": {
            "tags": []
          },
          "execution_count": 56
        },
        {
          "output_type": "display_data",
          "data": {
            "image/png": "[encoded data removed]",
            "text/plain": [
              "<Figure size 432x288 with 1 Axes>"
            ]
          },
          "metadata": {
            "tags": [],
            "needs_background": "light"
          }
        }
      ]
    },
    {
      "cell_type": "code",
      "metadata": {
        "colab": {
          "base_uri": "https://localhost:8080/",
          "height": 296
        },
        "id": "Hp5dUnGOJd_P",
        "outputId": "0d3cc1aa-e54b-4f95-8b70-1b91eb1fc674"
      },
      "source": [
        "sns.scatterplot(x = x_train_scaled['mean area'], y = x_train_scaled['mean smoothness'], hue = y_train)"
      ],
      "execution_count": 57,
      "outputs": [
        {
          "output_type": "execute_result",
          "data": {
            "text/plain": [
              "<matplotlib.axes._subplots.AxesSubplot at 0x7faee4fe6bd0>"
            ]
          },
          "metadata": {
            "tags": []
          },
          "execution_count": 57
        },
        {
          "output_type": "display_data",
          "data": {
            "image/png": "[encoded data removed]",
            "text/plain": [
              "<Figure size 432x288 with 1 Axes>"
            ]
          },
          "metadata": {
            "tags": [],
            "needs_background": "light"
          }
        }
      ]
    },
    {
      "cell_type": "code",
      "metadata": {
        "id": "Gt_0jstgKESg"
      },
      "source": [
        "min_test = x_test.min()\n",
        "range_test = (x_test-min_test).max()\n",
        "x_test_scaled = (x_test-min_test)/range_test"
      ],
      "execution_count": 58,
      "outputs": []
    },
    {
      "cell_type": "code",
      "metadata": {
        "colab": {
          "base_uri": "https://localhost:8080/"
        },
        "id": "50Vp2LyfMO5V",
        "outputId": "c0fa58be-617e-4085-d129-9c4ee684f54d"
      },
      "source": [
        "svc_model.fit(x_train_scaled, y_train)"
      ],
      "execution_count": 59,
      "outputs": [
        {
          "output_type": "execute_result",
          "data": {
            "text/plain": [
              "SVC(C=1.0, break_ties=False, cache_size=200, class_weight=None, coef0=0.0,\n",
              "    decision_function_shape='ovr', degree=3, gamma='scale', kernel='rbf',\n",
              "    max_iter=-1, probability=False, random_state=None, shrinking=True,\n",
              "    tol=0.001, verbose=False)"
            ]
          },
          "metadata": {
            "tags": []
          },
          "execution_count": 59
        }
      ]
    },
    {
      "cell_type": "code",
      "metadata": {
        "id": "kzb9xgk4MlE0"
      },
      "source": [
        "y_pred1 = svc_model.predict(x_test_scaled)"
      ],
      "execution_count": 60,
      "outputs": []
    },
    {
      "cell_type": "code",
      "metadata": {
        "id": "jmxMT7gEPcSi"
      },
      "source": [
        "cm = confusion_matrix(y_test, y_pred1)"
      ],
      "execution_count": 62,
      "outputs": []
    },
    {
      "cell_type": "code",
      "metadata": {
        "colab": {
          "base_uri": "https://localhost:8080/",
          "height": 282
        },
        "id": "0ejbhQkfPjiX",
        "outputId": "ef6048f6-7ebf-4ba7-cab2-38547322b925"
      },
      "source": [
        "sns.heatmap(cm, annot=True, fmt=\"d\")"
      ],
      "execution_count": 63,
      "outputs": [
        {
          "output_type": "execute_result",
          "data": {
            "text/plain": [
              "<matplotlib.axes._subplots.AxesSubplot at 0x7faee4f89050>"
            ]
          },
          "metadata": {
            "tags": []
          },
          "execution_count": 63
        },
        {
          "output_type": "display_data",
          "data": {
            "image/png": "[encoded data removed]",
            "text/plain": [
              "<Figure size 432x288 with 2 Axes>"
            ]
          },
          "metadata": {
            "tags": [],
            "needs_background": "light"
          }
        }
      ]
    },
    {
      "cell_type": "code",
      "metadata": {
        "colab": {
          "base_uri": "https://localhost:8080/"
        },
        "id": "Za9cRA3jPt_J",
        "outputId": "12604c5a-65ae-4b18-dcba-24beef57e2d4"
      },
      "source": [
        "print(classification_report(y_test, y_pred1))"
      ],
      "execution_count": 64,
      "outputs": [
        {
          "output_type": "stream",
          "text": [
            "              precision    recall  f1-score   support\n",
            "\n",
            "         0.0       1.00      0.92      0.96        48\n",
            "         1.0       0.94      1.00      0.97        66\n",
            "\n",
            "    accuracy                           0.96       114\n",
            "   macro avg       0.97      0.96      0.96       114\n",
            "weighted avg       0.97      0.96      0.96       114\n",
            "\n"
          ],
          "name": "stdout"
        }
      ]
    },
    {
      "cell_type": "code",
      "metadata": {
        "colab": {
          "base_uri": "https://localhost:8080/"
        },
        "id": "807sE5VCQF4f",
        "outputId": "e79e820a-ffba-4181-d750-2bbd7d1671ef"
      },
      "source": [
        "svc_model.score(x_train_scaled, y_train)"
      ],
      "execution_count": 65,
      "outputs": [
        {
          "output_type": "execute_result",
          "data": {
            "text/plain": [
              "0.9846153846153847"
            ]
          },
          "metadata": {
            "tags": []
          },
          "execution_count": 65
        }
      ]
    },
    {
      "cell_type": "code",
      "metadata": {
        "colab": {
          "base_uri": "https://localhost:8080/"
        },
        "id": "fEGx6faIQTD8",
        "outputId": "f617683c-0983-4343-8c5f-bee5d792ad78"
      },
      "source": [
        "svc_model.score(x_test_scaled, y_test)"
      ],
      "execution_count": 67,
      "outputs": [
        {
          "output_type": "execute_result",
          "data": {
            "text/plain": [
              "0.9649122807017544"
            ]
          },
          "metadata": {
            "tags": []
          },
          "execution_count": 67
        }
      ]
    },
    {
      "cell_type": "markdown",
      "metadata": {
        "id": "L9j6sbZ4Qt33"
      },
      "source": [
        "Improving the Model"
      ]
    },
    {
      "cell_type": "code",
      "metadata": {
        "id": "heNTJfuAQaot"
      },
      "source": [
        "param_grid = {'C':[0.1,1,10,100],'gamma':[1,0.1,0.01,0.001],'kernel':['rbf']}"
      ],
      "execution_count": 68,
      "outputs": []
    },
    {
      "cell_type": "code",
      "metadata": {
        "id": "oKwrnqu6RFTc"
      },
      "source": [
        "from sklearn.model_selection import GridSearchCV"
      ],
      "execution_count": 69,
      "outputs": []
    },
    {
      "cell_type": "code",
      "metadata": {
        "id": "_mKONVqpRK8N"
      },
      "source": [
        "grid = GridSearchCV(SVC(), param_grid, refit=True, verbose=4)"
      ],
      "execution_count": 70,
      "outputs": []
    },
    {
      "cell_type": "code",
      "metadata": {
        "colab": {
          "base_uri": "https://localhost:8080/"
        },
        "id": "sSDEWShiRlxH",
        "outputId": "39db7837-bf1c-4ef4-e2b2-dd7495ba8d2e"
      },
      "source": [
        "grid.fit(x_train_scaled, y_train)"
      ],
      "execution_count": 72,
      "outputs": [
        {
          "output_type": "stream",
          "text": [
            "Fitting 5 folds for each of 16 candidates, totalling 80 fits\n",
            "[CV] C=0.1, gamma=1, kernel=rbf ......................................\n",
            "[CV] .......... C=0.1, gamma=1, kernel=rbf, score=1.000, total=   0.0s\n",
            "[CV] C=0.1, gamma=1, kernel=rbf ......................................\n",
            "[CV] .......... C=0.1, gamma=1, kernel=rbf, score=0.945, total=   0.0s\n",
            "[CV] C=0.1, gamma=1, kernel=rbf ......................................\n",
            "[CV] .......... C=0.1, gamma=1, kernel=rbf, score=0.912, total=   0.0s\n",
            "[CV] C=0.1, gamma=1, kernel=rbf ......................................\n",
            "[CV] .......... C=0.1, gamma=1, kernel=rbf, score=0.956, total=   0.0s\n",
            "[CV] C=0.1, gamma=1, kernel=rbf ......................................\n",
            "[CV] .......... C=0.1, gamma=1, kernel=rbf, score=0.934, total=   0.0s\n",
            "[CV] C=0.1, gamma=0.1, kernel=rbf ....................................\n",
            "[CV] ........ C=0.1, gamma=0.1, kernel=rbf, score=0.945, total=   0.0s\n",
            "[CV] C=0.1, gamma=0.1, kernel=rbf ....................................\n",
            "[CV] ........ C=0.1, gamma=0.1, kernel=rbf, score=0.901, total=   0.0s\n",
            "[CV] C=0.1, gamma=0.1, kernel=rbf ....................................\n",
            "[CV] ........ C=0.1, gamma=0.1, kernel=rbf, score=0.890, total=   0.0s\n",
            "[CV] C=0.1, gamma=0.1, kernel=rbf ....................................\n",
            "[CV] ........ C=0.1, gamma=0.1, kernel=rbf, score=0.923, total=   0.0s\n",
            "[CV] C=0.1, gamma=0.1, kernel=rbf ....................................\n",
            "[CV] ........ C=0.1, gamma=0.1, kernel=rbf, score=0.868, total=   0.0s\n",
            "[CV] C=0.1, gamma=0.01, kernel=rbf ...................................\n",
            "[CV] ....... C=0.1, gamma=0.01, kernel=rbf, score=0.648, total=   0.0s\n",
            "[CV] C=0.1, gamma=0.01, kernel=rbf ...................................\n",
            "[CV] ....... C=0.1, gamma=0.01, kernel=rbf, score=0.637, total=   0.0s\n",
            "[CV] C=0.1, gamma=0.01, kernel=rbf ...................................\n",
            "[CV] ....... C=0.1, gamma=0.01, kernel=rbf, score=0.637, total=   0.0s\n",
            "[CV] C=0.1, gamma=0.01, kernel=rbf ...................................\n",
            "[CV] ....... C=0.1, gamma=0.01, kernel=rbf, score=0.637, total=   0.0s\n",
            "[CV] C=0.1, gamma=0.01, kernel=rbf ...................................\n",
            "[CV] ....... C=0.1, gamma=0.01, kernel=rbf, score=0.637, total=   0.0s\n",
            "[CV] C=0.1, gamma=0.001, kernel=rbf ..................................\n"
          ],
          "name": "stdout"
        },
        {
          "output_type": "stream",
          "text": [
            "[Parallel(n_jobs=1)]: Using backend SequentialBackend with 1 concurrent workers.\n",
            "[Parallel(n_jobs=1)]: Done   1 out of   1 | elapsed:    0.0s remaining:    0.0s\n",
            "[Parallel(n_jobs=1)]: Done   2 out of   2 | elapsed:    0.0s remaining:    0.0s\n",
            "[Parallel(n_jobs=1)]: Done   3 out of   3 | elapsed:    0.0s remaining:    0.0s\n"
          ],
          "name": "stderr"
        },
        {
          "output_type": "stream",
          "text": [
            "[CV] ...... C=0.1, gamma=0.001, kernel=rbf, score=0.648, total=   0.0s\n",
            "[CV] C=0.1, gamma=0.001, kernel=rbf ..................................\n",
            "[CV] ...... C=0.1, gamma=0.001, kernel=rbf, score=0.637, total=   0.0s\n",
            "[CV] C=0.1, gamma=0.001, kernel=rbf ..................................\n",
            "[CV] ...... C=0.1, gamma=0.001, kernel=rbf, score=0.637, total=   0.0s\n",
            "[CV] C=0.1, gamma=0.001, kernel=rbf ..................................\n",
            "[CV] ...... C=0.1, gamma=0.001, kernel=rbf, score=0.637, total=   0.0s\n",
            "[CV] C=0.1, gamma=0.001, kernel=rbf ..................................\n",
            "[CV] ...... C=0.1, gamma=0.001, kernel=rbf, score=0.637, total=   0.0s\n",
            "[CV] C=1, gamma=1, kernel=rbf ........................................\n",
            "[CV] ............ C=1, gamma=1, kernel=rbf, score=1.000, total=   0.0s\n",
            "[CV] C=1, gamma=1, kernel=rbf ........................................\n",
            "[CV] ............ C=1, gamma=1, kernel=rbf, score=0.956, total=   0.0s\n",
            "[CV] C=1, gamma=1, kernel=rbf ........................................\n",
            "[CV] ............ C=1, gamma=1, kernel=rbf, score=0.967, total=   0.0s\n",
            "[CV] C=1, gamma=1, kernel=rbf ........................................\n",
            "[CV] ............ C=1, gamma=1, kernel=rbf, score=1.000, total=   0.0s\n",
            "[CV] C=1, gamma=1, kernel=rbf ........................................\n",
            "[CV] ............ C=1, gamma=1, kernel=rbf, score=0.967, total=   0.0s\n",
            "[CV] C=1, gamma=0.1, kernel=rbf ......................................\n",
            "[CV] .......... C=1, gamma=0.1, kernel=rbf, score=0.989, total=   0.0s\n",
            "[CV] C=1, gamma=0.1, kernel=rbf ......................................\n",
            "[CV] .......... C=1, gamma=0.1, kernel=rbf, score=0.945, total=   0.0s\n",
            "[CV] C=1, gamma=0.1, kernel=rbf ......................................\n",
            "[CV] .......... C=1, gamma=0.1, kernel=rbf, score=0.923, total=   0.0s\n",
            "[CV] C=1, gamma=0.1, kernel=rbf ......................................\n",
            "[CV] .......... C=1, gamma=0.1, kernel=rbf, score=0.967, total=   0.0s\n",
            "[CV] C=1, gamma=0.1, kernel=rbf ......................................\n",
            "[CV] .......... C=1, gamma=0.1, kernel=rbf, score=0.934, total=   0.0s\n",
            "[CV] C=1, gamma=0.01, kernel=rbf .....................................\n",
            "[CV] ......... C=1, gamma=0.01, kernel=rbf, score=0.945, total=   0.0s\n",
            "[CV] C=1, gamma=0.01, kernel=rbf .....................................\n",
            "[CV] ......... C=1, gamma=0.01, kernel=rbf, score=0.901, total=   0.0s\n",
            "[CV] C=1, gamma=0.01, kernel=rbf .....................................\n",
            "[CV] ......... C=1, gamma=0.01, kernel=rbf, score=0.879, total=   0.0s\n",
            "[CV] C=1, gamma=0.01, kernel=rbf .....................................\n",
            "[CV] ......... C=1, gamma=0.01, kernel=rbf, score=0.923, total=   0.0s\n",
            "[CV] C=1, gamma=0.01, kernel=rbf .....................................\n",
            "[CV] ......... C=1, gamma=0.01, kernel=rbf, score=0.868, total=   0.0s\n",
            "[CV] C=1, gamma=0.001, kernel=rbf ....................................\n",
            "[CV] ........ C=1, gamma=0.001, kernel=rbf, score=0.648, total=   0.0s\n",
            "[CV] C=1, gamma=0.001, kernel=rbf ....................................\n",
            "[CV] ........ C=1, gamma=0.001, kernel=rbf, score=0.637, total=   0.0s\n",
            "[CV] C=1, gamma=0.001, kernel=rbf ....................................\n",
            "[CV] ........ C=1, gamma=0.001, kernel=rbf, score=0.637, total=   0.0s\n",
            "[CV] C=1, gamma=0.001, kernel=rbf ....................................\n",
            "[CV] ........ C=1, gamma=0.001, kernel=rbf, score=0.637, total=   0.0s\n",
            "[CV] C=1, gamma=0.001, kernel=rbf ....................................\n",
            "[CV] ........ C=1, gamma=0.001, kernel=rbf, score=0.637, total=   0.0s\n",
            "[CV] C=10, gamma=1, kernel=rbf .......................................\n",
            "[CV] ........... C=10, gamma=1, kernel=rbf, score=1.000, total=   0.0s\n",
            "[CV] C=10, gamma=1, kernel=rbf .......................................\n",
            "[CV] ........... C=10, gamma=1, kernel=rbf, score=0.967, total=   0.0s\n",
            "[CV] C=10, gamma=1, kernel=rbf .......................................\n",
            "[CV] ........... C=10, gamma=1, kernel=rbf, score=0.956, total=   0.0s\n",
            "[CV] C=10, gamma=1, kernel=rbf .......................................\n",
            "[CV] ........... C=10, gamma=1, kernel=rbf, score=1.000, total=   0.0s\n",
            "[CV] C=10, gamma=1, kernel=rbf .......................................\n",
            "[CV] ........... C=10, gamma=1, kernel=rbf, score=0.956, total=   0.0s\n",
            "[CV] C=10, gamma=0.1, kernel=rbf .....................................\n",
            "[CV] ......... C=10, gamma=0.1, kernel=rbf, score=1.000, total=   0.0s\n",
            "[CV] C=10, gamma=0.1, kernel=rbf .....................................\n",
            "[CV] ......... C=10, gamma=0.1, kernel=rbf, score=0.967, total=   0.0s\n",
            "[CV] C=10, gamma=0.1, kernel=rbf .....................................\n",
            "[CV] ......... C=10, gamma=0.1, kernel=rbf, score=0.967, total=   0.0s\n",
            "[CV] C=10, gamma=0.1, kernel=rbf .....................................\n",
            "[CV] ......... C=10, gamma=0.1, kernel=rbf, score=0.989, total=   0.0s\n",
            "[CV] C=10, gamma=0.1, kernel=rbf .....................................\n",
            "[CV] ......... C=10, gamma=0.1, kernel=rbf, score=0.945, total=   0.0s\n",
            "[CV] C=10, gamma=0.01, kernel=rbf ....................................\n",
            "[CV] ........ C=10, gamma=0.01, kernel=rbf, score=0.989, total=   0.0s\n",
            "[CV] C=10, gamma=0.01, kernel=rbf ....................................\n",
            "[CV] ........ C=10, gamma=0.01, kernel=rbf, score=0.945, total=   0.0s\n",
            "[CV] C=10, gamma=0.01, kernel=rbf ....................................\n",
            "[CV] ........ C=10, gamma=0.01, kernel=rbf, score=0.923, total=   0.0s\n",
            "[CV] C=10, gamma=0.01, kernel=rbf ....................................\n",
            "[CV] ........ C=10, gamma=0.01, kernel=rbf, score=0.967, total=   0.0s\n",
            "[CV] C=10, gamma=0.01, kernel=rbf ....................................\n",
            "[CV] ........ C=10, gamma=0.01, kernel=rbf, score=0.934, total=   0.0s\n",
            "[CV] C=10, gamma=0.001, kernel=rbf ...................................\n",
            "[CV] ....... C=10, gamma=0.001, kernel=rbf, score=0.945, total=   0.0s\n",
            "[CV] C=10, gamma=0.001, kernel=rbf ...................................\n",
            "[CV] ....... C=10, gamma=0.001, kernel=rbf, score=0.901, total=   0.0s\n",
            "[CV] C=10, gamma=0.001, kernel=rbf ...................................\n",
            "[CV] ....... C=10, gamma=0.001, kernel=rbf, score=0.879, total=   0.0s\n",
            "[CV] C=10, gamma=0.001, kernel=rbf ...................................\n",
            "[CV] ....... C=10, gamma=0.001, kernel=rbf, score=0.923, total=   0.0s\n",
            "[CV] C=10, gamma=0.001, kernel=rbf ...................................\n",
            "[CV] ....... C=10, gamma=0.001, kernel=rbf, score=0.879, total=   0.0s\n",
            "[CV] C=100, gamma=1, kernel=rbf ......................................\n",
            "[CV] .......... C=100, gamma=1, kernel=rbf, score=0.956, total=   0.0s\n",
            "[CV] C=100, gamma=1, kernel=rbf ......................................\n",
            "[CV] .......... C=100, gamma=1, kernel=rbf, score=0.956, total=   0.0s\n",
            "[CV] C=100, gamma=1, kernel=rbf ......................................\n",
            "[CV] .......... C=100, gamma=1, kernel=rbf, score=0.945, total=   0.0s\n",
            "[CV] C=100, gamma=1, kernel=rbf ......................................\n",
            "[CV] .......... C=100, gamma=1, kernel=rbf, score=0.989, total=   0.0s\n",
            "[CV] C=100, gamma=1, kernel=rbf ......................................\n",
            "[CV] .......... C=100, gamma=1, kernel=rbf, score=0.967, total=   0.0s\n",
            "[CV] C=100, gamma=0.1, kernel=rbf ....................................\n",
            "[CV] ........ C=100, gamma=0.1, kernel=rbf, score=1.000, total=   0.0s\n",
            "[CV] C=100, gamma=0.1, kernel=rbf ....................................\n",
            "[CV] ........ C=100, gamma=0.1, kernel=rbf, score=0.967, total=   0.0s\n",
            "[CV] C=100, gamma=0.1, kernel=rbf ....................................\n",
            "[CV] ........ C=100, gamma=0.1, kernel=rbf, score=0.945, total=   0.0s\n",
            "[CV] C=100, gamma=0.1, kernel=rbf ....................................\n",
            "[CV] ........ C=100, gamma=0.1, kernel=rbf, score=1.000, total=   0.0s\n",
            "[CV] C=100, gamma=0.1, kernel=rbf ....................................\n",
            "[CV] ........ C=100, gamma=0.1, kernel=rbf, score=0.956, total=   0.0s\n",
            "[CV] C=100, gamma=0.01, kernel=rbf ...................................\n",
            "[CV] ....... C=100, gamma=0.01, kernel=rbf, score=1.000, total=   0.0s\n",
            "[CV] C=100, gamma=0.01, kernel=rbf ...................................\n",
            "[CV] ....... C=100, gamma=0.01, kernel=rbf, score=0.967, total=   0.0s\n",
            "[CV] C=100, gamma=0.01, kernel=rbf ...................................\n",
            "[CV] ....... C=100, gamma=0.01, kernel=rbf, score=0.967, total=   0.0s\n",
            "[CV] C=100, gamma=0.01, kernel=rbf ...................................\n",
            "[CV] ....... C=100, gamma=0.01, kernel=rbf, score=0.989, total=   0.0s\n",
            "[CV] C=100, gamma=0.01, kernel=rbf ...................................\n",
            "[CV] ....... C=100, gamma=0.01, kernel=rbf, score=0.945, total=   0.0s\n",
            "[CV] C=100, gamma=0.001, kernel=rbf ..................................\n",
            "[CV] ...... C=100, gamma=0.001, kernel=rbf, score=0.989, total=   0.0s\n",
            "[CV] C=100, gamma=0.001, kernel=rbf ..................................\n",
            "[CV] ...... C=100, gamma=0.001, kernel=rbf, score=0.945, total=   0.0s\n",
            "[CV] C=100, gamma=0.001, kernel=rbf ..................................\n",
            "[CV] ...... C=100, gamma=0.001, kernel=rbf, score=0.923, total=   0.0s\n",
            "[CV] C=100, gamma=0.001, kernel=rbf ..................................\n",
            "[CV] ...... C=100, gamma=0.001, kernel=rbf, score=0.967, total=   0.0s\n",
            "[CV] C=100, gamma=0.001, kernel=rbf ..................................\n",
            "[CV] ...... C=100, gamma=0.001, kernel=rbf, score=0.934, total=   0.0s\n"
          ],
          "name": "stdout"
        },
        {
          "output_type": "stream",
          "text": [
            "[Parallel(n_jobs=1)]: Done  80 out of  80 | elapsed:    0.8s finished\n"
          ],
          "name": "stderr"
        },
        {
          "output_type": "execute_result",
          "data": {
            "text/plain": [
              "GridSearchCV(cv=None, error_score=nan,\n",
              "             estimator=SVC(C=1.0, break_ties=False, cache_size=200,\n",
              "                           class_weight=None, coef0=0.0,\n",
              "                           decision_function_shape='ovr', degree=3,\n",
              "                           gamma='scale', kernel='rbf', max_iter=-1,\n",
              "                           probability=False, random_state=None, shrinking=True,\n",
              "                           tol=0.001, verbose=False),\n",
              "             iid='deprecated', n_jobs=None,\n",
              "             param_grid={'C': [0.1, 1, 10, 100], 'gamma': [1, 0.1, 0.01, 0.001],\n",
              "                         'kernel': ['rbf']},\n",
              "             pre_dispatch='2*n_jobs', refit=True, return_train_score=False,\n",
              "             scoring=None, verbose=4)"
            ]
          },
          "metadata": {
            "tags": []
          },
          "execution_count": 72
        }
      ]
    },
    {
      "cell_type": "code",
      "metadata": {
        "colab": {
          "base_uri": "https://localhost:8080/"
        },
        "id": "Zw4A1e31RqOp",
        "outputId": "d7a44ddf-4b06-4ef9-f135-6eaf376246de"
      },
      "source": [
        "grid.best_params_"
      ],
      "execution_count": 73,
      "outputs": [
        {
          "output_type": "execute_result",
          "data": {
            "text/plain": [
              "{'C': 1, 'gamma': 1, 'kernel': 'rbf'}"
            ]
          },
          "metadata": {
            "tags": []
          },
          "execution_count": 73
        }
      ]
    },
    {
      "cell_type": "code",
      "metadata": {
        "colab": {
          "base_uri": "https://localhost:8080/"
        },
        "id": "lxVQVH5yR1Gn",
        "outputId": "0bc77040-ab3a-4974-f9f0-18df709392d0"
      },
      "source": [
        "grid.best_estimator_"
      ],
      "execution_count": 74,
      "outputs": [
        {
          "output_type": "execute_result",
          "data": {
            "text/plain": [
              "SVC(C=1, break_ties=False, cache_size=200, class_weight=None, coef0=0.0,\n",
              "    decision_function_shape='ovr', degree=3, gamma=1, kernel='rbf', max_iter=-1,\n",
              "    probability=False, random_state=None, shrinking=True, tol=0.001,\n",
              "    verbose=False)"
            ]
          },
          "metadata": {
            "tags": []
          },
          "execution_count": 74
        }
      ]
    },
    {
      "cell_type": "code",
      "metadata": {
        "id": "4f_DqjVJR47x"
      },
      "source": [
        "grid_predictions = grid.predict(x_test_scaled)"
      ],
      "execution_count": 75,
      "outputs": []
    },
    {
      "cell_type": "code",
      "metadata": {
        "id": "gNviQWDRSBG1"
      },
      "source": [
        "cm = confusion_matrix(y_test, grid_predictions)"
      ],
      "execution_count": 76,
      "outputs": []
    },
    {
      "cell_type": "code",
      "metadata": {
        "colab": {
          "base_uri": "https://localhost:8080/",
          "height": 282
        },
        "id": "wxGPJaUoSGj6",
        "outputId": "598ef39c-7026-42e0-f6ae-93987de9e4de"
      },
      "source": [
        "sns.heatmap(cm, annot=True)"
      ],
      "execution_count": 77,
      "outputs": [
        {
          "output_type": "execute_result",
          "data": {
            "text/plain": [
              "<matplotlib.axes._subplots.AxesSubplot at 0x7faee4e46bd0>"
            ]
          },
          "metadata": {
            "tags": []
          },
          "execution_count": 77
        },
        {
          "output_type": "display_data",
          "data": {
            "image/png": "[encoded data removed]",
            "text/plain": [
              "<Figure size 432x288 with 2 Axes>"
            ]
          },
          "metadata": {
            "tags": [],
            "needs_background": "light"
          }
        }
      ]
    },
    {
      "cell_type": "code",
      "metadata": {
        "colab": {
          "base_uri": "https://localhost:8080/"
        },
        "id": "W9xyAuIkSKwZ",
        "outputId": "273b8f74-e855-4356-d263-1b32894761f1"
      },
      "source": [
        "print(classification_report(y_test, grid_predictions))"
      ],
      "execution_count": 78,
      "outputs": [
        {
          "output_type": "stream",
          "text": [
            "              precision    recall  f1-score   support\n",
            "\n",
            "         0.0       1.00      0.92      0.96        48\n",
            "         1.0       0.94      1.00      0.97        66\n",
            "\n",
            "    accuracy                           0.96       114\n",
            "   macro avg       0.97      0.96      0.96       114\n",
            "weighted avg       0.97      0.96      0.96       114\n",
            "\n"
          ],
          "name": "stdout"
        }
      ]
    },
    {
      "cell_type": "code",
      "metadata": {
        "id": "yEgQHXD9SVHZ"
      },
      "source": [
        ""
      ],
      "execution_count": null,
      "outputs": []
    }
  ]
}